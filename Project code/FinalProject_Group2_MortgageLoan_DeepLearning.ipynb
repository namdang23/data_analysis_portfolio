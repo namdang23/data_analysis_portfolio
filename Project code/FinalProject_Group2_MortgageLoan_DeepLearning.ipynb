{
  "cells": [
    {
      "cell_type": "code",
      "execution_count": 1,
      "metadata": {
        "id": "b07db48e"
      },
      "outputs": [],
      "source": [
        "# load Modules\n",
        "\n",
        "import pandas as pd\n",
        "import numpy as np\n",
        "import matplotlib.pyplot as plt\n",
        "import tensorflow\n",
        "from tensorflow.keras import layers\n",
        "from tensorflow.keras.utils import plot_model\n",
        "import keras\n",
        "from keras import metrics\n",
        "from keras.callbacks import EarlyStopping, ModelCheckpoint\n",
        "from keras.utils.np_utils import to_categorical\n",
        "from keras.layers import Conv1D, GlobalMaxPooling1D, Dropout, Dense, GRU, LSTM, Bidirectional\n",
        "from keras.models import Sequential, load_model\n",
        "from tensorflow.keras.optimizers import Adam\n",
        "from sklearn.metrics import classification_report, confusion_matrix\n",
        "from sklearn.model_selection import train_test_split\n",
        "from scipy.spatial.distance import cdist\n",
        "import seaborn as sns\n",
        "from sklearn.preprocessing import MinMaxScaler\n",
        "\n",
        "# suppressing warnings\n",
        "import warnings\n",
        "warnings.filterwarnings('ignore')"
      ],
      "id": "b07db48e"
    },
    {
      "cell_type": "code",
      "execution_count": 2,
      "metadata": {
        "colab": {
          "base_uri": "https://localhost:8080/",
          "height": 90,
          "resources": {
            "http://localhost:8080/nbextensions/google.colab/files.js": {
              "data": "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",
              "headers": [
                [
                  "content-type",
                  "application/javascript"
                ]
              ],
              "ok": true,
              "status": 200,
              "status_text": ""
            }
          }
        },
        "id": "2b8RapZj3T_j",
        "outputId": "35f7c21b-bf05-407a-ba93-47b1b2a2ae4b"
      },
      "outputs": [
        {
          "output_type": "display_data",
          "data": {
            "text/plain": [
              "<IPython.core.display.HTML object>"
            ],
            "text/html": [
              "\n",
              "     <input type=\"file\" id=\"files-0b9ce648-2336-4ac1-9390-1e3214f0ebdc\" name=\"files[]\" multiple disabled\n",
              "        style=\"border:none\" />\n",
              "     <output id=\"result-0b9ce648-2336-4ac1-9390-1e3214f0ebdc\">\n",
              "      Upload widget is only available when the cell has been executed in the\n",
              "      current browser session. Please rerun this cell to enable.\n",
              "      </output>\n",
              "      <script src=\"/nbextensions/google.colab/files.js\"></script> "
            ]
          },
          "metadata": {}
        },
        {
          "output_type": "stream",
          "name": "stdout",
          "text": [
            "Saving mortgage_preprocessed.csv to mortgage_preprocessed.csv\n",
            "User uploaded file \"mortgage_preprocessed.csv\" with length 1165671 bytes\n"
          ]
        }
      ],
      "source": [
        "from google.colab import files\n",
        "\n",
        "uploaded = files.upload()\n",
        "\n",
        "for fn in uploaded.keys():\n",
        "  print('User uploaded file \"{name}\" with length {length} bytes'.format(\n",
        "      name=fn, length=len(uploaded[fn])))"
      ],
      "id": "2b8RapZj3T_j"
    },
    {
      "cell_type": "code",
      "execution_count": 3,
      "metadata": {
        "colab": {
          "base_uri": "https://localhost:8080/",
          "height": 270
        },
        "id": "3f8c7f22",
        "outputId": "f742689b-d390-40d8-cf6a-f9012dfa8d28"
      },
      "outputs": [
        {
          "output_type": "execute_result",
          "data": {
            "text/plain": [
              "   first_ob_time  maturity_time  investor  FICO_orig_time  LTV_orig_time  \\\n",
              "0       0.305085       0.540284         0          0.3300       0.448551   \n",
              "1       0.305085       0.554502         0          0.4825       0.300699   \n",
              "2       0.389831       0.582938         0          0.2200       0.198801   \n",
              "3       0.372881       0.582938         0          0.5725       0.198801   \n",
              "4       0.372881       0.582938         0          0.1875       0.169830   \n",
              "\n",
              "   Interest_Rate_orig_time  status_time  LTV_time_mean  LTV_time_std  \\\n",
              "0                        0            0       0.441826      0.058733   \n",
              "1                        1            1       0.378820      0.122859   \n",
              "2                        0            0       0.340868      0.006176   \n",
              "3                        0            0       0.340373      0.014525   \n",
              "4                        0            0       0.325279      0.010751   \n",
              "\n",
              "   balance_mean  balance_std  interest_rate_time_mean  interest_rate_time_std  \\\n",
              "0      0.020071            1                 0.191608                       0   \n",
              "1      0.008219            1                 0.134266                       0   \n",
              "2      0.036468            1                 0.236364                       0   \n",
              "3      0.033453            1                 0.113315                       0   \n",
              "4      0.020880            1                 0.193706                       0   \n",
              "\n",
              "   hpi_time_mean  gdp_time_mean  uer_time_mean  RE_Type.CO  RE_Type.OTH  \\\n",
              "0       0.776633       0.769017       0.287224           0            0   \n",
              "1       0.617981       0.524586       0.586368           0            1   \n",
              "2       0.989504       0.692328       0.168588           0            0   \n",
              "3       0.956620       0.643239       0.161563           0            1   \n",
              "4       0.980528       0.727914       0.187320           0            1   \n",
              "\n",
              "   RE_Type.PU  RE_Type.SF  \n",
              "0           1           0  \n",
              "1           0           0  \n",
              "2           0           1  \n",
              "3           0           0  \n",
              "4           0           0  "
            ],
            "text/html": [
              "\n",
              "  <div id=\"df-90106a2d-6ad7-4342-84a5-ac66c2d03a51\">\n",
              "    <div class=\"colab-df-container\">\n",
              "      <div>\n",
              "<style scoped>\n",
              "    .dataframe tbody tr th:only-of-type {\n",
              "        vertical-align: middle;\n",
              "    }\n",
              "\n",
              "    .dataframe tbody tr th {\n",
              "        vertical-align: top;\n",
              "    }\n",
              "\n",
              "    .dataframe thead th {\n",
              "        text-align: right;\n",
              "    }\n",
              "</style>\n",
              "<table border=\"1\" class=\"dataframe\">\n",
              "  <thead>\n",
              "    <tr style=\"text-align: right;\">\n",
              "      <th></th>\n",
              "      <th>first_ob_time</th>\n",
              "      <th>maturity_time</th>\n",
              "      <th>investor</th>\n",
              "      <th>FICO_orig_time</th>\n",
              "      <th>LTV_orig_time</th>\n",
              "      <th>Interest_Rate_orig_time</th>\n",
              "      <th>status_time</th>\n",
              "      <th>LTV_time_mean</th>\n",
              "      <th>LTV_time_std</th>\n",
              "      <th>balance_mean</th>\n",
              "      <th>balance_std</th>\n",
              "      <th>interest_rate_time_mean</th>\n",
              "      <th>interest_rate_time_std</th>\n",
              "      <th>hpi_time_mean</th>\n",
              "      <th>gdp_time_mean</th>\n",
              "      <th>uer_time_mean</th>\n",
              "      <th>RE_Type.CO</th>\n",
              "      <th>RE_Type.OTH</th>\n",
              "      <th>RE_Type.PU</th>\n",
              "      <th>RE_Type.SF</th>\n",
              "    </tr>\n",
              "  </thead>\n",
              "  <tbody>\n",
              "    <tr>\n",
              "      <th>0</th>\n",
              "      <td>0.305085</td>\n",
              "      <td>0.540284</td>\n",
              "      <td>0</td>\n",
              "      <td>0.3300</td>\n",
              "      <td>0.448551</td>\n",
              "      <td>0</td>\n",
              "      <td>0</td>\n",
              "      <td>0.441826</td>\n",
              "      <td>0.058733</td>\n",
              "      <td>0.020071</td>\n",
              "      <td>1</td>\n",
              "      <td>0.191608</td>\n",
              "      <td>0</td>\n",
              "      <td>0.776633</td>\n",
              "      <td>0.769017</td>\n",
              "      <td>0.287224</td>\n",
              "      <td>0</td>\n",
              "      <td>0</td>\n",
              "      <td>1</td>\n",
              "      <td>0</td>\n",
              "    </tr>\n",
              "    <tr>\n",
              "      <th>1</th>\n",
              "      <td>0.305085</td>\n",
              "      <td>0.554502</td>\n",
              "      <td>0</td>\n",
              "      <td>0.4825</td>\n",
              "      <td>0.300699</td>\n",
              "      <td>1</td>\n",
              "      <td>1</td>\n",
              "      <td>0.378820</td>\n",
              "      <td>0.122859</td>\n",
              "      <td>0.008219</td>\n",
              "      <td>1</td>\n",
              "      <td>0.134266</td>\n",
              "      <td>0</td>\n",
              "      <td>0.617981</td>\n",
              "      <td>0.524586</td>\n",
              "      <td>0.586368</td>\n",
              "      <td>0</td>\n",
              "      <td>1</td>\n",
              "      <td>0</td>\n",
              "      <td>0</td>\n",
              "    </tr>\n",
              "    <tr>\n",
              "      <th>2</th>\n",
              "      <td>0.389831</td>\n",
              "      <td>0.582938</td>\n",
              "      <td>0</td>\n",
              "      <td>0.2200</td>\n",
              "      <td>0.198801</td>\n",
              "      <td>0</td>\n",
              "      <td>0</td>\n",
              "      <td>0.340868</td>\n",
              "      <td>0.006176</td>\n",
              "      <td>0.036468</td>\n",
              "      <td>1</td>\n",
              "      <td>0.236364</td>\n",
              "      <td>0</td>\n",
              "      <td>0.989504</td>\n",
              "      <td>0.692328</td>\n",
              "      <td>0.168588</td>\n",
              "      <td>0</td>\n",
              "      <td>0</td>\n",
              "      <td>0</td>\n",
              "      <td>1</td>\n",
              "    </tr>\n",
              "    <tr>\n",
              "      <th>3</th>\n",
              "      <td>0.372881</td>\n",
              "      <td>0.582938</td>\n",
              "      <td>0</td>\n",
              "      <td>0.5725</td>\n",
              "      <td>0.198801</td>\n",
              "      <td>0</td>\n",
              "      <td>0</td>\n",
              "      <td>0.340373</td>\n",
              "      <td>0.014525</td>\n",
              "      <td>0.033453</td>\n",
              "      <td>1</td>\n",
              "      <td>0.113315</td>\n",
              "      <td>0</td>\n",
              "      <td>0.956620</td>\n",
              "      <td>0.643239</td>\n",
              "      <td>0.161563</td>\n",
              "      <td>0</td>\n",
              "      <td>1</td>\n",
              "      <td>0</td>\n",
              "      <td>0</td>\n",
              "    </tr>\n",
              "    <tr>\n",
              "      <th>4</th>\n",
              "      <td>0.372881</td>\n",
              "      <td>0.582938</td>\n",
              "      <td>0</td>\n",
              "      <td>0.1875</td>\n",
              "      <td>0.169830</td>\n",
              "      <td>0</td>\n",
              "      <td>0</td>\n",
              "      <td>0.325279</td>\n",
              "      <td>0.010751</td>\n",
              "      <td>0.020880</td>\n",
              "      <td>1</td>\n",
              "      <td>0.193706</td>\n",
              "      <td>0</td>\n",
              "      <td>0.980528</td>\n",
              "      <td>0.727914</td>\n",
              "      <td>0.187320</td>\n",
              "      <td>0</td>\n",
              "      <td>1</td>\n",
              "      <td>0</td>\n",
              "      <td>0</td>\n",
              "    </tr>\n",
              "  </tbody>\n",
              "</table>\n",
              "</div>\n",
              "      <button class=\"colab-df-convert\" onclick=\"convertToInteractive('df-90106a2d-6ad7-4342-84a5-ac66c2d03a51')\"\n",
              "              title=\"Convert this dataframe to an interactive table.\"\n",
              "              style=\"display:none;\">\n",
              "        \n",
              "  <svg xmlns=\"http://www.w3.org/2000/svg\" height=\"24px\"viewBox=\"0 0 24 24\"\n",
              "       width=\"24px\">\n",
              "    <path d=\"M0 0h24v24H0V0z\" fill=\"none\"/>\n",
              "    <path d=\"M18.56 5.44l.94 2.06.94-2.06 2.06-.94-2.06-.94-.94-2.06-.94 2.06-2.06.94zm-11 1L8.5 8.5l.94-2.06 2.06-.94-2.06-.94L8.5 2.5l-.94 2.06-2.06.94zm10 10l.94 2.06.94-2.06 2.06-.94-2.06-.94-.94-2.06-.94 2.06-2.06.94z\"/><path d=\"M17.41 7.96l-1.37-1.37c-.4-.4-.92-.59-1.43-.59-.52 0-1.04.2-1.43.59L10.3 9.45l-7.72 7.72c-.78.78-.78 2.05 0 2.83L4 21.41c.39.39.9.59 1.41.59.51 0 1.02-.2 1.41-.59l7.78-7.78 2.81-2.81c.8-.78.8-2.07 0-2.86zM5.41 20L4 18.59l7.72-7.72 1.47 1.35L5.41 20z\"/>\n",
              "  </svg>\n",
              "      </button>\n",
              "      \n",
              "  <style>\n",
              "    .colab-df-container {\n",
              "      display:flex;\n",
              "      flex-wrap:wrap;\n",
              "      gap: 12px;\n",
              "    }\n",
              "\n",
              "    .colab-df-convert {\n",
              "      background-color: #E8F0FE;\n",
              "      border: none;\n",
              "      border-radius: 50%;\n",
              "      cursor: pointer;\n",
              "      display: none;\n",
              "      fill: #1967D2;\n",
              "      height: 32px;\n",
              "      padding: 0 0 0 0;\n",
              "      width: 32px;\n",
              "    }\n",
              "\n",
              "    .colab-df-convert:hover {\n",
              "      background-color: #E2EBFA;\n",
              "      box-shadow: 0px 1px 2px rgba(60, 64, 67, 0.3), 0px 1px 3px 1px rgba(60, 64, 67, 0.15);\n",
              "      fill: #174EA6;\n",
              "    }\n",
              "\n",
              "    [theme=dark] .colab-df-convert {\n",
              "      background-color: #3B4455;\n",
              "      fill: #D2E3FC;\n",
              "    }\n",
              "\n",
              "    [theme=dark] .colab-df-convert:hover {\n",
              "      background-color: #434B5C;\n",
              "      box-shadow: 0px 1px 3px 1px rgba(0, 0, 0, 0.15);\n",
              "      filter: drop-shadow(0px 1px 2px rgba(0, 0, 0, 0.3));\n",
              "      fill: #FFFFFF;\n",
              "    }\n",
              "  </style>\n",
              "\n",
              "      <script>\n",
              "        const buttonEl =\n",
              "          document.querySelector('#df-90106a2d-6ad7-4342-84a5-ac66c2d03a51 button.colab-df-convert');\n",
              "        buttonEl.style.display =\n",
              "          google.colab.kernel.accessAllowed ? 'block' : 'none';\n",
              "\n",
              "        async function convertToInteractive(key) {\n",
              "          const element = document.querySelector('#df-90106a2d-6ad7-4342-84a5-ac66c2d03a51');\n",
              "          const dataTable =\n",
              "            await google.colab.kernel.invokeFunction('convertToInteractive',\n",
              "                                                     [key], {});\n",
              "          if (!dataTable) return;\n",
              "\n",
              "          const docLinkHtml = 'Like what you see? Visit the ' +\n",
              "            '<a target=\"_blank\" href=https://colab.research.google.com/notebooks/data_table.ipynb>data table notebook</a>'\n",
              "            + ' to learn more about interactive tables.';\n",
              "          element.innerHTML = '';\n",
              "          dataTable['output_type'] = 'display_data';\n",
              "          await google.colab.output.renderOutput(dataTable, element);\n",
              "          const docLink = document.createElement('div');\n",
              "          docLink.innerHTML = docLinkHtml;\n",
              "          element.appendChild(docLink);\n",
              "        }\n",
              "      </script>\n",
              "    </div>\n",
              "  </div>\n",
              "  "
            ]
          },
          "metadata": {},
          "execution_count": 3
        }
      ],
      "source": [
        "#  Load the data\n",
        "mortgage = pd.read_csv('mortgage_preprocessed.csv')\n",
        "mortgage.head()"
      ],
      "id": "3f8c7f22"
    },
    {
      "cell_type": "code",
      "execution_count": 4,
      "metadata": {
        "id": "aca6271d"
      },
      "outputs": [],
      "source": [
        "# Defining independent & dependent variables\n",
        "\n",
        "y = mortgage['status_time']\n",
        "X = mortgage.drop('status_time',axis=1)"
      ],
      "id": "aca6271d"
    },
    {
      "cell_type": "code",
      "execution_count": 5,
      "metadata": {
        "id": "5ae46221"
      },
      "outputs": [],
      "source": [
        "# Handle Class Imbalance by SMOTE\n",
        "\n",
        "from imblearn.over_sampling import SMOTE\n",
        "smote = SMOTE()\n",
        "X_smote, y_smote = smote.fit_resample(X, y)"
      ],
      "id": "5ae46221"
    },
    {
      "cell_type": "code",
      "execution_count": 6,
      "metadata": {
        "id": "71f52e0e"
      },
      "outputs": [],
      "source": [
        "# Create train and test set(For SMOTE)\n",
        "\n",
        "X_train, X_test, y_train, y_test = train_test_split(X_smote, y_smote, test_size=0.2, random_state=210)"
      ],
      "id": "71f52e0e"
    },
    {
      "cell_type": "code",
      "execution_count": 7,
      "metadata": {
        "id": "aa6c8a48"
      },
      "outputs": [],
      "source": [
        "# Defining a keras sequential model\n",
        "\n",
        "dl_model = Sequential()\n",
        "dl_model.add(Dense(100, activation='relu', name = 'Hidden_Layer_1'))\n",
        "dl_model.add(Dense(64, activation='relu', name = 'Hidden_Layer_2'))\n",
        "dl_model.add(Dense(48, activation='relu', name = 'Hidden_Layer_3'))\n",
        "dl_model.add(Dense(36, activation='relu', name = 'Hidden_Layer_4'))\n",
        "dl_model.add(Dense(20, activation='relu', name = 'Hidden_Layer_5'))\n",
        "dl_model.add(Dense(10, activation='relu', name = 'Hidden_Layer_6'))\n",
        "dl_model.add(Dense(1, activation='sigmoid', name = 'Output_Layer'))"
      ],
      "id": "aa6c8a48"
    },
    {
      "cell_type": "code",
      "execution_count": 8,
      "metadata": {
        "id": "28eef6a1"
      },
      "outputs": [],
      "source": [
        "# Compile the keras model\n",
        "dl_model.compile(loss='binary_crossentropy', optimizer='adam', metrics=['accuracy'])"
      ],
      "id": "28eef6a1"
    },
    {
      "cell_type": "code",
      "execution_count": 9,
      "metadata": {
        "colab": {
          "base_uri": "https://localhost:8080/"
        },
        "id": "b927f6de",
        "outputId": "528d943b-2886-4cab-e799-3f527dc1b6d0"
      },
      "outputs": [
        {
          "output_type": "stream",
          "name": "stdout",
          "text": [
            "Epoch 1/36\n",
            "266/266 [==============================] - 1s 2ms/step - loss: 0.6036 - accuracy: 0.6689 - val_loss: 0.6126 - val_accuracy: 0.6702\n",
            "Epoch 2/36\n",
            "266/266 [==============================] - 1s 2ms/step - loss: 0.5404 - accuracy: 0.7255 - val_loss: 0.5444 - val_accuracy: 0.7347\n",
            "Epoch 3/36\n",
            "266/266 [==============================] - 0s 2ms/step - loss: 0.5179 - accuracy: 0.7407 - val_loss: 0.5460 - val_accuracy: 0.7336\n",
            "Epoch 4/36\n",
            "266/266 [==============================] - 1s 2ms/step - loss: 0.5063 - accuracy: 0.7521 - val_loss: 0.5286 - val_accuracy: 0.7421\n",
            "Epoch 5/36\n",
            "266/266 [==============================] - 0s 2ms/step - loss: 0.5038 - accuracy: 0.7543 - val_loss: 0.5817 - val_accuracy: 0.7146\n",
            "Epoch 6/36\n",
            "266/266 [==============================] - 1s 2ms/step - loss: 0.4917 - accuracy: 0.7623 - val_loss: 0.5312 - val_accuracy: 0.7273\n",
            "Epoch 7/36\n",
            "266/266 [==============================] - 0s 2ms/step - loss: 0.4899 - accuracy: 0.7636 - val_loss: 0.5154 - val_accuracy: 0.7526\n",
            "Epoch 8/36\n",
            "266/266 [==============================] - 0s 2ms/step - loss: 0.4810 - accuracy: 0.7732 - val_loss: 0.5155 - val_accuracy: 0.7579\n",
            "Epoch 9/36\n",
            "266/266 [==============================] - 0s 2ms/step - loss: 0.4760 - accuracy: 0.7743 - val_loss: 0.5012 - val_accuracy: 0.7727\n",
            "Epoch 10/36\n",
            "266/266 [==============================] - 1s 2ms/step - loss: 0.4696 - accuracy: 0.7797 - val_loss: 0.4903 - val_accuracy: 0.7748\n",
            "Epoch 11/36\n",
            "266/266 [==============================] - 0s 2ms/step - loss: 0.4687 - accuracy: 0.7800 - val_loss: 0.4883 - val_accuracy: 0.7822\n",
            "Epoch 12/36\n",
            "266/266 [==============================] - 0s 2ms/step - loss: 0.4622 - accuracy: 0.7816 - val_loss: 0.4855 - val_accuracy: 0.7717\n",
            "Epoch 13/36\n",
            "266/266 [==============================] - 0s 2ms/step - loss: 0.4578 - accuracy: 0.7857 - val_loss: 0.5080 - val_accuracy: 0.7685\n",
            "Epoch 14/36\n",
            "266/266 [==============================] - 0s 2ms/step - loss: 0.4567 - accuracy: 0.7896 - val_loss: 0.5097 - val_accuracy: 0.7548\n",
            "Epoch 15/36\n",
            "266/266 [==============================] - 0s 2ms/step - loss: 0.4470 - accuracy: 0.7918 - val_loss: 0.4772 - val_accuracy: 0.7854\n",
            "Epoch 16/36\n",
            "266/266 [==============================] - 0s 2ms/step - loss: 0.4455 - accuracy: 0.7933 - val_loss: 0.4832 - val_accuracy: 0.7896\n",
            "Epoch 17/36\n",
            "266/266 [==============================] - 0s 2ms/step - loss: 0.4390 - accuracy: 0.7970 - val_loss: 0.4843 - val_accuracy: 0.7727\n",
            "Epoch 18/36\n",
            "266/266 [==============================] - 0s 2ms/step - loss: 0.4370 - accuracy: 0.7980 - val_loss: 0.4782 - val_accuracy: 0.7833\n",
            "Epoch 19/36\n",
            "266/266 [==============================] - 1s 2ms/step - loss: 0.4301 - accuracy: 0.8033 - val_loss: 0.4619 - val_accuracy: 0.8002\n",
            "Epoch 20/36\n",
            "266/266 [==============================] - 0s 2ms/step - loss: 0.4317 - accuracy: 0.8025 - val_loss: 0.4836 - val_accuracy: 0.7822\n",
            "Epoch 21/36\n",
            "266/266 [==============================] - 0s 2ms/step - loss: 0.4230 - accuracy: 0.8074 - val_loss: 0.4755 - val_accuracy: 0.7896\n",
            "Epoch 22/36\n",
            "266/266 [==============================] - 1s 2ms/step - loss: 0.4204 - accuracy: 0.8085 - val_loss: 0.4738 - val_accuracy: 0.7970\n",
            "Epoch 23/36\n",
            "266/266 [==============================] - 0s 2ms/step - loss: 0.4154 - accuracy: 0.8086 - val_loss: 0.4649 - val_accuracy: 0.7949\n",
            "Epoch 24/36\n",
            "266/266 [==============================] - 1s 2ms/step - loss: 0.4146 - accuracy: 0.8113 - val_loss: 0.4630 - val_accuracy: 0.7896\n",
            "Epoch 25/36\n",
            "266/266 [==============================] - 0s 2ms/step - loss: 0.4106 - accuracy: 0.8095 - val_loss: 0.4756 - val_accuracy: 0.7907\n",
            "Epoch 26/36\n",
            "266/266 [==============================] - 0s 2ms/step - loss: 0.4067 - accuracy: 0.8154 - val_loss: 0.4718 - val_accuracy: 0.7907\n",
            "Epoch 27/36\n",
            "266/266 [==============================] - 1s 2ms/step - loss: 0.4009 - accuracy: 0.8146 - val_loss: 0.4621 - val_accuracy: 0.8013\n",
            "Epoch 28/36\n",
            "266/266 [==============================] - 0s 2ms/step - loss: 0.4056 - accuracy: 0.8177 - val_loss: 0.4745 - val_accuracy: 0.7875\n",
            "Epoch 29/36\n",
            "266/266 [==============================] - 0s 2ms/step - loss: 0.3996 - accuracy: 0.8192 - val_loss: 0.4704 - val_accuracy: 0.7748\n",
            "Epoch 30/36\n",
            "266/266 [==============================] - 0s 2ms/step - loss: 0.4060 - accuracy: 0.8121 - val_loss: 0.4833 - val_accuracy: 0.7770\n",
            "Epoch 31/36\n",
            "266/266 [==============================] - 1s 2ms/step - loss: 0.3898 - accuracy: 0.8249 - val_loss: 0.4744 - val_accuracy: 0.7970\n",
            "Epoch 32/36\n",
            "266/266 [==============================] - 0s 2ms/step - loss: 0.3856 - accuracy: 0.8266 - val_loss: 0.4640 - val_accuracy: 0.7865\n",
            "Epoch 33/36\n",
            "266/266 [==============================] - 1s 2ms/step - loss: 0.3870 - accuracy: 0.8258 - val_loss: 0.4564 - val_accuracy: 0.8023\n",
            "Epoch 34/36\n",
            "266/266 [==============================] - 0s 2ms/step - loss: 0.3855 - accuracy: 0.8286 - val_loss: 0.4621 - val_accuracy: 0.7960\n",
            "Epoch 35/36\n",
            "266/266 [==============================] - 1s 2ms/step - loss: 0.3851 - accuracy: 0.8264 - val_loss: 0.4634 - val_accuracy: 0.7696\n",
            "Epoch 36/36\n",
            "266/266 [==============================] - 0s 2ms/step - loss: 0.3805 - accuracy: 0.8282 - val_loss: 0.4879 - val_accuracy: 0.7939\n"
          ]
        }
      ],
      "source": [
        "# Fit the model\n",
        "\n",
        "dl_model_fit = dl_model.fit(X_train, y_train, epochs=36, batch_size=32, validation_split = 0.1)"
      ],
      "id": "b927f6de"
    },
    {
      "cell_type": "code",
      "execution_count": 10,
      "metadata": {
        "colab": {
          "base_uri": "https://localhost:8080/"
        },
        "id": "59fbacc8",
        "outputId": "d7784c86-4107-4a53-989a-f659c9140d86"
      },
      "outputs": [
        {
          "output_type": "stream",
          "name": "stdout",
          "text": [
            "296/296 [==============================] - 0s 966us/step - loss: 0.3948 - accuracy: 0.8242\n"
          ]
        },
        {
          "output_type": "execute_result",
          "data": {
            "text/plain": [
              "[0.394826203584671, 0.8241642117500305]"
            ]
          },
          "metadata": {},
          "execution_count": 10
        }
      ],
      "source": [
        "# Train Accuracy\n",
        "\n",
        "dl_model.evaluate(X_train, y_train)"
      ],
      "id": "59fbacc8"
    },
    {
      "cell_type": "code",
      "execution_count": 11,
      "metadata": {
        "colab": {
          "base_uri": "https://localhost:8080/"
        },
        "id": "f05e02ad",
        "outputId": "4b5b560a-84ec-4622-8f95-142be3852551"
      },
      "outputs": [
        {
          "output_type": "stream",
          "name": "stdout",
          "text": [
            "74/74 [==============================] - 0s 1ms/step - loss: 0.4414 - accuracy: 0.8020\n"
          ]
        },
        {
          "output_type": "execute_result",
          "data": {
            "text/plain": [
              "[0.44143104553222656, 0.8020304441452026]"
            ]
          },
          "metadata": {},
          "execution_count": 11
        }
      ],
      "source": [
        "# Test Accuracy\n",
        "\n",
        "dl_model.evaluate(X_test, y_test)"
      ],
      "id": "f05e02ad"
    },
    {
      "cell_type": "code",
      "execution_count": 12,
      "metadata": {
        "colab": {
          "base_uri": "https://localhost:8080/"
        },
        "id": "39dbbf92",
        "outputId": "096f7d2a-a3a3-4edf-b4fb-fb7e95626d71"
      },
      "outputs": [
        {
          "output_type": "execute_result",
          "data": {
            "text/plain": [
              "dict_keys(['loss', 'accuracy', 'val_loss', 'val_accuracy'])"
            ]
          },
          "metadata": {},
          "execution_count": 12
        }
      ],
      "source": [
        "# Training information\n",
        "\n",
        "history_dict = dl_model_fit.history\n",
        "history_dict.keys()"
      ],
      "id": "39dbbf92"
    },
    {
      "cell_type": "code",
      "execution_count": 13,
      "metadata": {
        "colab": {
          "base_uri": "https://localhost:8080/",
          "height": 281
        },
        "id": "47c07b09",
        "outputId": "0a0d7efc-704d-4c00-c561-366334c47b27"
      },
      "outputs": [
        {
          "output_type": "display_data",
          "data": {
            "text/plain": [
              "<Figure size 432x288 with 1 Axes>"
            ],
            "image/png": "[encoded data removed]"
          },
          "metadata": {
            "needs_background": "light"
          }
        }
      ],
      "source": [
        "# Training information for loss\n",
        "\n",
        "epochs = range(1, len(history_dict['loss']) + 1)\n",
        "plt.title('Loss')\n",
        "plt.plot(epochs, history_dict['loss'], label='train')\n",
        "plt.plot(epochs, history_dict['val_loss'], label='val')\n",
        "plt.legend()\n",
        "plt.show();"
      ],
      "id": "47c07b09"
    },
    {
      "cell_type": "code",
      "execution_count": 14,
      "metadata": {
        "colab": {
          "base_uri": "https://localhost:8080/",
          "height": 281
        },
        "id": "3a835768",
        "outputId": "bcad8fad-3929-4848-8198-fec3b57c9443"
      },
      "outputs": [
        {
          "output_type": "display_data",
          "data": {
            "text/plain": [
              "<Figure size 432x288 with 1 Axes>"
            ],
            "image/png": "[encoded data removed]"
          },
          "metadata": {
            "needs_background": "light"
          }
        }
      ],
      "source": [
        "# Training information for accuracy\n",
        "\n",
        "plt.title('Accuracy')\n",
        "plt.plot(epochs, history_dict['accuracy'], label='train')\n",
        "plt.plot(epochs, history_dict['val_accuracy'], label='val')\n",
        "plt.legend()\n",
        "plt.show();"
      ],
      "id": "3a835768"
    },
    {
      "cell_type": "code",
      "execution_count": 15,
      "metadata": {
        "colab": {
          "base_uri": "https://localhost:8080/"
        },
        "id": "a2a54724",
        "outputId": "d515ffd8-bd89-4e24-b84d-89f545f02d2b"
      },
      "outputs": [
        {
          "output_type": "stream",
          "name": "stdout",
          "text": [
            "Model: \"sequential\"\n",
            "_________________________________________________________________\n",
            " Layer (type)                Output Shape              Param #   \n",
            "=================================================================\n",
            " Hidden_Layer_1 (Dense)      (None, 100)               2000      \n",
            "                                                                 \n",
            " Hidden_Layer_2 (Dense)      (None, 64)                6464      \n",
            "                                                                 \n",
            " Hidden_Layer_3 (Dense)      (None, 48)                3120      \n",
            "                                                                 \n",
            " Hidden_Layer_4 (Dense)      (None, 36)                1764      \n",
            "                                                                 \n",
            " Hidden_Layer_5 (Dense)      (None, 20)                740       \n",
            "                                                                 \n",
            " Hidden_Layer_6 (Dense)      (None, 10)                210       \n",
            "                                                                 \n",
            " Output_Layer (Dense)        (None, 1)                 11        \n",
            "                                                                 \n",
            "=================================================================\n",
            "Total params: 14,309\n",
            "Trainable params: 14,309\n",
            "Non-trainable params: 0\n",
            "_________________________________________________________________\n"
          ]
        }
      ],
      "source": [
        "# Summarize the model\n",
        "\n",
        "dl_model.summary()"
      ],
      "id": "a2a54724"
    },
    {
      "cell_type": "code",
      "execution_count": 16,
      "metadata": {
        "colab": {
          "base_uri": "https://localhost:8080/",
          "height": 865
        },
        "id": "d0fad72c",
        "outputId": "83fd85b6-cc2e-4f29-dd87-a92393098616"
      },
      "outputs": [
        {
          "output_type": "execute_result",
          "data": {
            "image/png": "[encoded data removed]",
            "text/plain": [
              "<IPython.core.display.Image object>"
            ]
          },
          "metadata": {},
          "execution_count": 16
        }
      ],
      "source": [
        "# Visualize the model\n",
        "\n",
        "plot_model(dl_model, show_shapes=True, show_layer_names=True)"
      ],
      "id": "d0fad72c"
    },
    {
      "cell_type": "code",
      "execution_count": 17,
      "metadata": {
        "id": "d979d314"
      },
      "outputs": [],
      "source": [
        "# Calculating kappa value\n",
        "\n",
        "def get_kappa_binary(actual_y, pred_y):\n",
        "    cm = confusion_matrix(actual_y, pred_y)\n",
        "    total = sum(sum(cm))\n",
        "    p_expected_c0 = ((cm[0,0]+cm[0,1])/total) * ((cm[0,0]+cm[1,0])/total)\n",
        "    p_expected_c1 = ((cm[1,1]+cm[1,0])/total) * ((cm[1,1]+cm[0,1])/total)\n",
        "    p_expected = p_expected_c0 + p_expected_c1\n",
        "    p_actual = (cm[0,0]+cm[1,1])/total\n",
        "    kappa = (p_actual - p_expected)/(1 - p_expected)\n",
        "    return kappa"
      ],
      "id": "d979d314"
    },
    {
      "cell_type": "code",
      "execution_count": 49,
      "metadata": {
        "id": "05db7abb"
      },
      "outputs": [],
      "source": [
        "# Calculating Accuracy, Sensitivity and Specificity\n",
        "\n",
        "def get_performance_binary(actual_Y, pred_Y):\n",
        "    cm = confusion_matrix(actual_Y, pred_Y)\n",
        "    total = sum(sum(cm))\n",
        "    accuracy = (cm[0,0]+cm[1,1])/total\n",
        "    sensitivity = cm[1,1]/(cm[1,0]+cm[1,1])\n",
        "    specificity = cm[0,0]/(cm[0,0]+cm[0,1])\n",
        "    return accuracy, sensitivity, specificity"
      ],
      "id": "05db7abb"
    },
    {
      "cell_type": "code",
      "execution_count": 19,
      "metadata": {
        "id": "7394ebf4",
        "colab": {
          "base_uri": "https://localhost:8080/"
        },
        "outputId": "5ca0557e-939e-4000-8e6c-d69494177d0b"
      },
      "outputs": [
        {
          "output_type": "stream",
          "name": "stdout",
          "text": [
            "[[3539 1175]\n",
            " [ 487 4251]]\n"
          ]
        }
      ],
      "source": [
        "# Make predictions for train set\n",
        "\n",
        "train_predictions = (dl_model.predict(X_train) > 0.5).astype(\"int32\")\n",
        "\n",
        "# Check confusion matrix for train set\n",
        "\n",
        "print(confusion_matrix(y_train, train_predictions))"
      ],
      "id": "7394ebf4"
    },
    {
      "cell_type": "code",
      "execution_count": 20,
      "metadata": {
        "colab": {
          "base_uri": "https://localhost:8080/"
        },
        "id": "386e9094",
        "outputId": "49eabbd0-f4e3-4c9e-96b6-8661c34f7a72"
      },
      "outputs": [
        {
          "output_type": "execute_result",
          "data": {
            "text/plain": [
              "0.6481960861527261"
            ]
          },
          "metadata": {},
          "execution_count": 20
        }
      ],
      "source": [
        "# Get kappa for train set\n",
        "\n",
        "get_kappa_binary(y_train,train_predictions)"
      ],
      "id": "386e9094"
    },
    {
      "cell_type": "code",
      "execution_count": 50,
      "metadata": {
        "colab": {
          "base_uri": "https://localhost:8080/"
        },
        "id": "261dc90b",
        "outputId": "12b21b56-7e07-404e-a73e-97a99b615d6d"
      },
      "outputs": [
        {
          "output_type": "execute_result",
          "data": {
            "text/plain": [
              "(0.8241641980533221, 0.8972140143520473, 0.75074246924056)"
            ]
          },
          "metadata": {},
          "execution_count": 50
        }
      ],
      "source": [
        "# Get sensitivity and specificity for train set\n",
        "\n",
        "get_performance_binary(y_train, train_predictions)"
      ],
      "id": "261dc90b"
    },
    {
      "cell_type": "code",
      "execution_count": 24,
      "metadata": {
        "colab": {
          "base_uri": "https://localhost:8080/"
        },
        "id": "15ef3d78",
        "outputId": "ade41830-595e-4623-dbb1-8a68b6408dd0"
      },
      "outputs": [
        {
          "output_type": "stream",
          "name": "stdout",
          "text": [
            "              precision    recall  f1-score   support\n",
            "\n",
            "           0     0.8790    0.7507    0.8098      4714\n",
            "           1     0.7835    0.8972    0.8365      4738\n",
            "\n",
            "    accuracy                         0.8242      9452\n",
            "   macro avg     0.8312    0.8240    0.8232      9452\n",
            "weighted avg     0.8311    0.8242    0.8232      9452\n",
            "\n"
          ]
        }
      ],
      "source": [
        "# Class-level Performance for train set\n",
        "\n",
        "print(classification_report(y_train, train_predictions, digits = 4))"
      ],
      "id": "15ef3d78"
    },
    {
      "cell_type": "code",
      "execution_count": 25,
      "metadata": {
        "colab": {
          "base_uri": "https://localhost:8080/"
        },
        "id": "8c6ba47a",
        "outputId": "36bb7b1d-2647-45b9-c5e9-293e5c89dd1d"
      },
      "outputs": [
        {
          "output_type": "stream",
          "name": "stdout",
          "text": [
            "[[ 876  318]\n",
            " [ 150 1020]]\n"
          ]
        }
      ],
      "source": [
        "# Make predictions for test set\n",
        "\n",
        "test_predictions = (dl_model.predict(X_test) > 0.5).astype(\"int32\")\n",
        "\n",
        "# Get Confusion Matrix for test set\n",
        "\n",
        "print(confusion_matrix(y_test, test_predictions))"
      ],
      "id": "8c6ba47a"
    },
    {
      "cell_type": "code",
      "execution_count": 26,
      "metadata": {
        "colab": {
          "base_uri": "https://localhost:8080/"
        },
        "id": "74fb9555",
        "outputId": "d18dac7c-e868-4be4-e881-d5fee250a6de"
      },
      "outputs": [
        {
          "output_type": "execute_result",
          "data": {
            "text/plain": [
              "0.6045907207740407"
            ]
          },
          "metadata": {},
          "execution_count": 26
        }
      ],
      "source": [
        "# Get kappa for test set\n",
        "\n",
        "get_kappa_binary(y_test,test_predictions)"
      ],
      "id": "74fb9555"
    },
    {
      "cell_type": "code",
      "execution_count": 51,
      "metadata": {
        "colab": {
          "base_uri": "https://localhost:8080/"
        },
        "id": "76383198",
        "outputId": "a0689bb6-9f5f-4a7e-f3e3-0c856c39d68c"
      },
      "outputs": [
        {
          "output_type": "execute_result",
          "data": {
            "text/plain": [
              "(0.8020304568527918, 0.8717948717948718, 0.7336683417085427)"
            ]
          },
          "metadata": {},
          "execution_count": 51
        }
      ],
      "source": [
        "# Get sensitivity and specificity for test set\n",
        "\n",
        "get_performance_binary(y_test, test_predictions)"
      ],
      "id": "76383198"
    },
    {
      "cell_type": "code",
      "execution_count": 28,
      "metadata": {
        "colab": {
          "base_uri": "https://localhost:8080/"
        },
        "id": "27162284",
        "outputId": "34f0d30c-e657-4f68-c838-e7149b98750e"
      },
      "outputs": [
        {
          "output_type": "stream",
          "name": "stdout",
          "text": [
            "              precision    recall  f1-score   support\n",
            "\n",
            "           0     0.8538    0.7337    0.7892      1194\n",
            "           1     0.7623    0.8718    0.8134      1170\n",
            "\n",
            "    accuracy                         0.8020      2364\n",
            "   macro avg     0.8081    0.8027    0.8013      2364\n",
            "weighted avg     0.8085    0.8020    0.8012      2364\n",
            "\n"
          ]
        }
      ],
      "source": [
        "# Class-level Performance for test set\n",
        "\n",
        "print(classification_report(y_test, test_predictions, digits = 4))"
      ],
      "id": "27162284"
    },
    {
      "cell_type": "code",
      "execution_count": 29,
      "metadata": {
        "id": "43e2c810",
        "colab": {
          "base_uri": "https://localhost:8080/"
        },
        "outputId": "cb723125-34c7-4e99-ef0f-47820f7245a1"
      },
      "outputs": [
        {
          "output_type": "stream",
          "name": "stdout",
          "text": [
            "\u001b[K     |████████████████████████████████| 135 kB 14.8 MB/s \n",
            "\u001b[K     |████████████████████████████████| 1.6 MB 79.2 MB/s \n",
            "\u001b[?25h"
          ]
        }
      ],
      "source": [
        "pip install -q -U keras-tuner"
      ],
      "id": "43e2c810"
    },
    {
      "cell_type": "code",
      "execution_count": 30,
      "metadata": {
        "id": "ad9b01a4"
      },
      "outputs": [],
      "source": [
        "import keras_tuner as kt"
      ],
      "id": "ad9b01a4"
    },
    {
      "cell_type": "code",
      "execution_count": 31,
      "metadata": {
        "id": "12b8d6bd"
      },
      "outputs": [],
      "source": [
        "# Define the sequential model\n",
        "\n",
        "def model_builder(hp):\n",
        "  model = keras.Sequential()\n",
        "  # Tune the number of units in the first Dense layer\n",
        "  # Choose an optimal value \n",
        "  hp_units1 = hp.Int('units_1', min_value = 16, \n",
        "                     max_value = 200, \n",
        "                     step = 16)\n",
        "  hp_units2 = hp.Int('units_2', min_value = 16, \n",
        "                     max_value = 160, \n",
        "                     step = 16)\n",
        "  hp_units3 = hp.Int('units_3', min_value = 16, \n",
        "                     max_value = 160, \n",
        "                     step = 16)\n",
        "  hp_units4 = hp.Int('units_4', min_value = 16, \n",
        "                     max_value = 80, \n",
        "                     step = 16)\n",
        "  hp_units5 = hp.Int('units_5', min_value = 16, \n",
        "                     max_value = 80, \n",
        "                     step = 16)\n",
        "  hp_units6 = hp.Int('units_6', min_value = 16, \n",
        "                     max_value = 80, \n",
        "                     step = 16)\n",
        "  hp_units7 = hp.Int('units_7', min_value = 16, \n",
        "                     max_value = 80, \n",
        "                     step = 16)\n",
        "  hp_units8 = hp.Int('units_8', min_value = 16, \n",
        "                     max_value = 32, \n",
        "                     step = 8)\n",
        "  hp_units9 = hp.Int('units_9', min_value = 8, \n",
        "                     max_value = 32, \n",
        "                     step = 4)\n",
        "  hp_units10 = hp.Int('units_10', min_value = 8, \n",
        "                     max_value = 32, \n",
        "                     step = 4)\n",
        "  model.add(Dense(units = hp_units1, \n",
        "                               activation = 'relu'))\n",
        "  model.add(Dense(units = hp_units2, \n",
        "                               activation = 'relu'))\n",
        "  model.add(Dense(units = hp_units3, \n",
        "                               activation = 'relu'))\n",
        "  model.add(Dense(units = hp_units4, \n",
        "                               activation = 'relu'))\n",
        "  model.add(Dense(units = hp_units5, \n",
        "                               activation = 'relu'))\n",
        "  model.add(Dense(units = hp_units6, \n",
        "                               activation = 'relu'))\n",
        "  model.add(Dense(units = hp_units7, \n",
        "                               activation = 'relu'))\n",
        "  model.add(Dense(units = hp_units8, \n",
        "                               activation = 'relu'))\n",
        "  model.add(Dense(units = hp_units9, \n",
        "                               activation = 'relu'))\n",
        "  model.add(Dense(units = hp_units10, \n",
        "                               activation = 'relu'))\n",
        "  model.add(Dense(units = 1,\n",
        "              activation = 'sigmoid'))\n",
        "\n",
        "  # Tune the learning rate for the optimizer\n",
        "  # Choose an optimal value from 0.1 - 0.0001\n",
        "  hp_learning_rate = hp.Choice('learning_rate', values = [1e-1, 1e-2, 1e-3, 1e-4])\n",
        "\n",
        "  model.compile(optimizer = Adam(learning_rate = hp_learning_rate),\n",
        "                loss = 'binary_crossentropy',\n",
        "                metrics = 'accuracy')\n",
        "\n",
        "  return model"
      ],
      "id": "12b8d6bd"
    },
    {
      "cell_type": "code",
      "execution_count": 32,
      "metadata": {
        "id": "737530b6"
      },
      "outputs": [],
      "source": [
        "# Use a variation of the Hyperband approach to optimizing hyperparameters\n",
        "\n",
        "tuner = kt.Hyperband(model_builder,\n",
        "                     objective = 'val_accuracy',\n",
        "                     max_epochs = 50,\n",
        "                     factor = 3,\n",
        "                     seed = 210,\n",
        "                     directory = 'my_dir',\n",
        "                     project_name = 'intro_to_kt3')"
      ],
      "id": "737530b6"
    },
    {
      "cell_type": "code",
      "execution_count": 33,
      "metadata": {
        "id": "3c32af2c"
      },
      "outputs": [],
      "source": [
        "# Set up a stop early to avoid overfitting and save effectiveness\n",
        "\n",
        "stop_early = EarlyStopping(monitor = 'val_loss', patience = 5)"
      ],
      "id": "3c32af2c"
    },
    {
      "cell_type": "code",
      "execution_count": 34,
      "metadata": {
        "id": "72fa979d",
        "colab": {
          "base_uri": "https://localhost:8080/"
        },
        "outputId": "c7a396b4-83b2-48b3-88c6-7f6cd2b4a184"
      },
      "outputs": [
        {
          "output_type": "stream",
          "name": "stdout",
          "text": [
            "Trial 90 Complete [00h 00m 34s]\n",
            "val_accuracy: 0.8002114295959473\n",
            "\n",
            "Best val_accuracy So Far: 0.8033826351165771\n",
            "Total elapsed time: 00h 14m 07s\n"
          ]
        }
      ],
      "source": [
        "# Conduct the hyperparameter search\n",
        "\n",
        "tuner.search(X_train, \n",
        "             y_train, \n",
        "             epochs = 50, \n",
        "             batch_size = 32, \n",
        "             validation_split = 0.1, \n",
        "             callbacks = [stop_early])"
      ],
      "id": "72fa979d"
    },
    {
      "cell_type": "code",
      "execution_count": 35,
      "metadata": {
        "colab": {
          "base_uri": "https://localhost:8080/"
        },
        "id": "2b63a79a",
        "outputId": "351c0283-7c35-436d-f3bc-e2f81ef7945f"
      },
      "outputs": [
        {
          "output_type": "execute_result",
          "data": {
            "text/plain": [
              "{'space': [{'class_name': 'Int',\n",
              "   'config': {'name': 'units_1',\n",
              "    'default': None,\n",
              "    'conditions': [],\n",
              "    'min_value': 16,\n",
              "    'max_value': 200,\n",
              "    'step': 16,\n",
              "    'sampling': None}},\n",
              "  {'class_name': 'Int',\n",
              "   'config': {'name': 'units_2',\n",
              "    'default': None,\n",
              "    'conditions': [],\n",
              "    'min_value': 16,\n",
              "    'max_value': 160,\n",
              "    'step': 16,\n",
              "    'sampling': None}},\n",
              "  {'class_name': 'Int',\n",
              "   'config': {'name': 'units_3',\n",
              "    'default': None,\n",
              "    'conditions': [],\n",
              "    'min_value': 16,\n",
              "    'max_value': 160,\n",
              "    'step': 16,\n",
              "    'sampling': None}},\n",
              "  {'class_name': 'Int',\n",
              "   'config': {'name': 'units_4',\n",
              "    'default': None,\n",
              "    'conditions': [],\n",
              "    'min_value': 16,\n",
              "    'max_value': 80,\n",
              "    'step': 16,\n",
              "    'sampling': None}},\n",
              "  {'class_name': 'Int',\n",
              "   'config': {'name': 'units_5',\n",
              "    'default': None,\n",
              "    'conditions': [],\n",
              "    'min_value': 16,\n",
              "    'max_value': 80,\n",
              "    'step': 16,\n",
              "    'sampling': None}},\n",
              "  {'class_name': 'Int',\n",
              "   'config': {'name': 'units_6',\n",
              "    'default': None,\n",
              "    'conditions': [],\n",
              "    'min_value': 16,\n",
              "    'max_value': 80,\n",
              "    'step': 16,\n",
              "    'sampling': None}},\n",
              "  {'class_name': 'Int',\n",
              "   'config': {'name': 'units_7',\n",
              "    'default': None,\n",
              "    'conditions': [],\n",
              "    'min_value': 16,\n",
              "    'max_value': 80,\n",
              "    'step': 16,\n",
              "    'sampling': None}},\n",
              "  {'class_name': 'Int',\n",
              "   'config': {'name': 'units_8',\n",
              "    'default': None,\n",
              "    'conditions': [],\n",
              "    'min_value': 16,\n",
              "    'max_value': 32,\n",
              "    'step': 8,\n",
              "    'sampling': None}},\n",
              "  {'class_name': 'Int',\n",
              "   'config': {'name': 'units_9',\n",
              "    'default': None,\n",
              "    'conditions': [],\n",
              "    'min_value': 8,\n",
              "    'max_value': 32,\n",
              "    'step': 4,\n",
              "    'sampling': None}},\n",
              "  {'class_name': 'Int',\n",
              "   'config': {'name': 'units_10',\n",
              "    'default': None,\n",
              "    'conditions': [],\n",
              "    'min_value': 8,\n",
              "    'max_value': 32,\n",
              "    'step': 4,\n",
              "    'sampling': None}},\n",
              "  {'class_name': 'Choice',\n",
              "   'config': {'name': 'learning_rate',\n",
              "    'default': 0.1,\n",
              "    'conditions': [],\n",
              "    'values': [0.1, 0.01, 0.001, 0.0001],\n",
              "    'ordered': True}}],\n",
              " 'values': {'units_1': 112,\n",
              "  'units_2': 96,\n",
              "  'units_3': 112,\n",
              "  'units_4': 32,\n",
              "  'units_5': 48,\n",
              "  'units_6': 80,\n",
              "  'units_7': 64,\n",
              "  'units_8': 24,\n",
              "  'units_9': 8,\n",
              "  'units_10': 12,\n",
              "  'learning_rate': 0.0001,\n",
              "  'tuner/epochs': 50,\n",
              "  'tuner/initial_epoch': 0,\n",
              "  'tuner/bracket': 0,\n",
              "  'tuner/round': 0}}"
            ]
          },
          "metadata": {},
          "execution_count": 35
        }
      ],
      "source": [
        "# View the information for the best model\n",
        "\n",
        "best_mod = tuner.get_best_hyperparameters(num_trials = 1)[0]\n",
        "best_mod.get_config()"
      ],
      "id": "2b63a79a"
    },
    {
      "cell_type": "code",
      "execution_count": 52,
      "metadata": {
        "colab": {
          "base_uri": "https://localhost:8080/"
        },
        "id": "f5ce900e",
        "outputId": "18533db2-a8ee-47f4-9381-36294c7d9c28"
      },
      "outputs": [
        {
          "output_type": "stream",
          "name": "stdout",
          "text": [
            "Epoch 1/50\n",
            "266/266 [==============================] - 1s 3ms/step - loss: 0.6907 - accuracy: 0.5379 - val_loss: 0.6844 - val_accuracy: 0.5581\n",
            "Epoch 2/50\n",
            "266/266 [==============================] - 1s 3ms/step - loss: 0.6452 - accuracy: 0.6626 - val_loss: 0.6147 - val_accuracy: 0.7378\n",
            "Epoch 3/50\n",
            "266/266 [==============================] - 1s 3ms/step - loss: 0.5693 - accuracy: 0.7390 - val_loss: 0.5651 - val_accuracy: 0.7400\n",
            "Epoch 4/50\n",
            "266/266 [==============================] - 1s 3ms/step - loss: 0.5305 - accuracy: 0.7434 - val_loss: 0.5456 - val_accuracy: 0.7431\n",
            "Epoch 5/50\n",
            "266/266 [==============================] - 1s 3ms/step - loss: 0.5198 - accuracy: 0.7498 - val_loss: 0.5410 - val_accuracy: 0.7431\n",
            "Epoch 6/50\n",
            "266/266 [==============================] - 1s 3ms/step - loss: 0.5117 - accuracy: 0.7589 - val_loss: 0.5292 - val_accuracy: 0.7696\n",
            "Epoch 7/50\n",
            "266/266 [==============================] - 1s 3ms/step - loss: 0.5013 - accuracy: 0.7621 - val_loss: 0.5218 - val_accuracy: 0.7643\n",
            "Epoch 8/50\n",
            "266/266 [==============================] - 1s 2ms/step - loss: 0.4964 - accuracy: 0.7646 - val_loss: 0.5222 - val_accuracy: 0.7696\n",
            "Epoch 9/50\n",
            "266/266 [==============================] - 1s 3ms/step - loss: 0.4899 - accuracy: 0.7673 - val_loss: 0.5153 - val_accuracy: 0.7696\n",
            "Epoch 10/50\n",
            "266/266 [==============================] - 1s 3ms/step - loss: 0.4899 - accuracy: 0.7731 - val_loss: 0.5141 - val_accuracy: 0.7664\n",
            "Epoch 11/50\n",
            "266/266 [==============================] - 1s 2ms/step - loss: 0.4816 - accuracy: 0.7752 - val_loss: 0.5182 - val_accuracy: 0.7759\n",
            "Epoch 12/50\n",
            "266/266 [==============================] - 1s 3ms/step - loss: 0.4791 - accuracy: 0.7802 - val_loss: 0.5165 - val_accuracy: 0.7696\n",
            "Epoch 13/50\n",
            "266/266 [==============================] - 1s 3ms/step - loss: 0.4749 - accuracy: 0.7802 - val_loss: 0.5125 - val_accuracy: 0.7748\n",
            "Epoch 14/50\n",
            "266/266 [==============================] - 1s 2ms/step - loss: 0.4726 - accuracy: 0.7803 - val_loss: 0.4971 - val_accuracy: 0.7791\n",
            "Epoch 15/50\n",
            "266/266 [==============================] - 1s 3ms/step - loss: 0.4705 - accuracy: 0.7854 - val_loss: 0.4937 - val_accuracy: 0.7759\n",
            "Epoch 16/50\n",
            "266/266 [==============================] - 1s 3ms/step - loss: 0.4658 - accuracy: 0.7844 - val_loss: 0.4937 - val_accuracy: 0.7727\n",
            "Epoch 17/50\n",
            "266/266 [==============================] - 1s 3ms/step - loss: 0.4632 - accuracy: 0.7877 - val_loss: 0.5066 - val_accuracy: 0.7643\n",
            "Epoch 18/50\n",
            "266/266 [==============================] - 1s 2ms/step - loss: 0.4577 - accuracy: 0.7894 - val_loss: 0.4855 - val_accuracy: 0.7875\n",
            "Epoch 19/50\n",
            "266/266 [==============================] - 1s 3ms/step - loss: 0.4592 - accuracy: 0.7911 - val_loss: 0.4968 - val_accuracy: 0.7875\n",
            "Epoch 20/50\n",
            "266/266 [==============================] - 1s 3ms/step - loss: 0.4570 - accuracy: 0.7914 - val_loss: 0.4965 - val_accuracy: 0.7664\n",
            "Epoch 21/50\n",
            "266/266 [==============================] - 1s 2ms/step - loss: 0.4591 - accuracy: 0.7880 - val_loss: 0.4944 - val_accuracy: 0.7664\n",
            "Epoch 22/50\n",
            "266/266 [==============================] - 1s 3ms/step - loss: 0.4507 - accuracy: 0.7954 - val_loss: 0.4883 - val_accuracy: 0.7770\n",
            "Epoch 23/50\n",
            "266/266 [==============================] - 1s 3ms/step - loss: 0.4514 - accuracy: 0.7917 - val_loss: 0.4816 - val_accuracy: 0.7844\n",
            "Epoch 24/50\n",
            "266/266 [==============================] - 1s 2ms/step - loss: 0.4481 - accuracy: 0.7940 - val_loss: 0.4822 - val_accuracy: 0.7801\n",
            "Epoch 25/50\n",
            "266/266 [==============================] - 1s 2ms/step - loss: 0.4441 - accuracy: 0.7990 - val_loss: 0.5020 - val_accuracy: 0.7590\n",
            "Epoch 26/50\n",
            "266/266 [==============================] - 1s 3ms/step - loss: 0.4446 - accuracy: 0.7978 - val_loss: 0.4839 - val_accuracy: 0.7854\n",
            "Epoch 27/50\n",
            "266/266 [==============================] - 1s 2ms/step - loss: 0.4432 - accuracy: 0.7972 - val_loss: 0.4834 - val_accuracy: 0.7759\n",
            "Epoch 28/50\n",
            "266/266 [==============================] - 1s 2ms/step - loss: 0.4397 - accuracy: 0.8011 - val_loss: 0.4733 - val_accuracy: 0.7865\n",
            "Epoch 29/50\n",
            "266/266 [==============================] - 1s 3ms/step - loss: 0.4398 - accuracy: 0.8021 - val_loss: 0.4744 - val_accuracy: 0.7875\n",
            "Epoch 30/50\n",
            "266/266 [==============================] - 1s 3ms/step - loss: 0.4373 - accuracy: 0.7970 - val_loss: 0.4711 - val_accuracy: 0.7822\n",
            "Epoch 31/50\n",
            "266/266 [==============================] - 1s 3ms/step - loss: 0.4342 - accuracy: 0.8018 - val_loss: 0.4679 - val_accuracy: 0.8013\n",
            "Epoch 32/50\n",
            "266/266 [==============================] - 1s 3ms/step - loss: 0.4333 - accuracy: 0.8052 - val_loss: 0.4730 - val_accuracy: 0.7844\n",
            "Epoch 33/50\n",
            "266/266 [==============================] - 1s 3ms/step - loss: 0.4302 - accuracy: 0.8046 - val_loss: 0.4764 - val_accuracy: 0.7801\n",
            "Epoch 34/50\n",
            "266/266 [==============================] - 1s 2ms/step - loss: 0.4263 - accuracy: 0.8086 - val_loss: 0.4633 - val_accuracy: 0.8023\n",
            "Epoch 35/50\n",
            "266/266 [==============================] - 1s 3ms/step - loss: 0.4249 - accuracy: 0.8058 - val_loss: 0.4770 - val_accuracy: 0.7854\n",
            "Epoch 36/50\n",
            "266/266 [==============================] - 1s 3ms/step - loss: 0.4238 - accuracy: 0.8088 - val_loss: 0.4660 - val_accuracy: 0.7801\n",
            "Epoch 37/50\n",
            "266/266 [==============================] - 1s 3ms/step - loss: 0.4258 - accuracy: 0.8087 - val_loss: 0.4673 - val_accuracy: 0.7854\n",
            "Epoch 38/50\n",
            "266/266 [==============================] - 1s 3ms/step - loss: 0.4234 - accuracy: 0.8073 - val_loss: 0.4638 - val_accuracy: 0.7875\n",
            "Epoch 39/50\n",
            "266/266 [==============================] - 1s 2ms/step - loss: 0.4189 - accuracy: 0.8106 - val_loss: 0.4686 - val_accuracy: 0.7875\n",
            "Epoch 40/50\n",
            "266/266 [==============================] - 1s 2ms/step - loss: 0.4206 - accuracy: 0.8090 - val_loss: 0.4579 - val_accuracy: 0.7928\n",
            "Epoch 41/50\n",
            "266/266 [==============================] - 1s 2ms/step - loss: 0.4146 - accuracy: 0.8100 - val_loss: 0.4550 - val_accuracy: 0.7928\n",
            "Epoch 42/50\n",
            "266/266 [==============================] - 1s 3ms/step - loss: 0.4140 - accuracy: 0.8128 - val_loss: 0.4638 - val_accuracy: 0.7939\n",
            "Epoch 43/50\n",
            "266/266 [==============================] - 1s 3ms/step - loss: 0.4106 - accuracy: 0.8162 - val_loss: 0.4711 - val_accuracy: 0.7896\n",
            "Epoch 44/50\n",
            "266/266 [==============================] - 1s 3ms/step - loss: 0.4165 - accuracy: 0.8134 - val_loss: 0.4677 - val_accuracy: 0.7886\n",
            "Epoch 45/50\n",
            "266/266 [==============================] - 1s 3ms/step - loss: 0.4126 - accuracy: 0.8155 - val_loss: 0.4657 - val_accuracy: 0.7970\n",
            "Epoch 46/50\n",
            "266/266 [==============================] - 1s 3ms/step - loss: 0.4131 - accuracy: 0.8144 - val_loss: 0.4595 - val_accuracy: 0.7970\n",
            "Epoch 47/50\n",
            "266/266 [==============================] - 1s 3ms/step - loss: 0.4096 - accuracy: 0.8132 - val_loss: 0.4590 - val_accuracy: 0.7949\n",
            "Epoch 48/50\n",
            "266/266 [==============================] - 1s 3ms/step - loss: 0.4082 - accuracy: 0.8162 - val_loss: 0.4586 - val_accuracy: 0.7865\n",
            "Epoch 49/50\n",
            "266/266 [==============================] - 1s 3ms/step - loss: 0.4059 - accuracy: 0.8186 - val_loss: 0.4592 - val_accuracy: 0.7822\n",
            "Epoch 50/50\n",
            "266/266 [==============================] - 1s 3ms/step - loss: 0.4059 - accuracy: 0.8194 - val_loss: 0.4546 - val_accuracy: 0.7949\n"
          ]
        }
      ],
      "source": [
        "# Run the model using our optimal hyperparameters.\n",
        "\n",
        "model_tune = tuner.hypermodel.build(best_mod)\n",
        "history_tune = model_tune.fit(X_train, \n",
        "                              y_train,\n",
        "                              epochs = best_mod.get('tuner/epochs'),\n",
        "                              batch_size = 32,\n",
        "                              validation_split = 0.1)"
      ],
      "id": "f5ce900e"
    },
    {
      "cell_type": "code",
      "execution_count": 53,
      "metadata": {
        "colab": {
          "base_uri": "https://localhost:8080/"
        },
        "id": "wVB06LCU7_Zj",
        "outputId": "8e5a0fd9-bccb-47ea-b047-6c0cf6fe5bee"
      },
      "outputs": [
        {
          "output_type": "stream",
          "name": "stdout",
          "text": [
            "296/296 [==============================] - 0s 1ms/step - loss: 0.4002 - accuracy: 0.8219\n"
          ]
        },
        {
          "output_type": "execute_result",
          "data": {
            "text/plain": [
              "[0.40021270513534546, 0.8219424486160278]"
            ]
          },
          "metadata": {},
          "execution_count": 53
        }
      ],
      "source": [
        "# Train Accuracy\n",
        "\n",
        "model_tune.evaluate(X_train, y_train)"
      ],
      "id": "wVB06LCU7_Zj"
    },
    {
      "cell_type": "code",
      "execution_count": 54,
      "metadata": {
        "id": "RIFLnSL88HrL",
        "colab": {
          "base_uri": "https://localhost:8080/"
        },
        "outputId": "55240566-9129-4db6-dd4e-22f7cec58c2e"
      },
      "outputs": [
        {
          "output_type": "stream",
          "name": "stdout",
          "text": [
            "74/74 [==============================] - 0s 1ms/step - loss: 0.4277 - accuracy: 0.8096\n"
          ]
        },
        {
          "output_type": "execute_result",
          "data": {
            "text/plain": [
              "[0.42768800258636475, 0.8096446990966797]"
            ]
          },
          "metadata": {},
          "execution_count": 54
        }
      ],
      "source": [
        "# Test Accuracy\n",
        "\n",
        "model_tune.evaluate(X_test, y_test)"
      ],
      "id": "RIFLnSL88HrL"
    },
    {
      "cell_type": "code",
      "execution_count": 39,
      "metadata": {
        "colab": {
          "base_uri": "https://localhost:8080/"
        },
        "id": "Onso5Hzk8S0b",
        "outputId": "695e6558-2168-4f63-da63-a53206f74c24"
      },
      "outputs": [
        {
          "output_type": "stream",
          "name": "stdout",
          "text": [
            "Model: \"sequential_1\"\n",
            "_________________________________________________________________\n",
            " Layer (type)                Output Shape              Param #   \n",
            "=================================================================\n",
            " dense_11 (Dense)            (None, 112)               2240      \n",
            "                                                                 \n",
            " dense_12 (Dense)            (None, 96)                10848     \n",
            "                                                                 \n",
            " dense_13 (Dense)            (None, 112)               10864     \n",
            "                                                                 \n",
            " dense_14 (Dense)            (None, 32)                3616      \n",
            "                                                                 \n",
            " dense_15 (Dense)            (None, 48)                1584      \n",
            "                                                                 \n",
            " dense_16 (Dense)            (None, 80)                3920      \n",
            "                                                                 \n",
            " dense_17 (Dense)            (None, 64)                5184      \n",
            "                                                                 \n",
            " dense_18 (Dense)            (None, 24)                1560      \n",
            "                                                                 \n",
            " dense_19 (Dense)            (None, 8)                 200       \n",
            "                                                                 \n",
            " dense_20 (Dense)            (None, 12)                108       \n",
            "                                                                 \n",
            " dense_21 (Dense)            (None, 1)                 13        \n",
            "                                                                 \n",
            "=================================================================\n",
            "Total params: 40,137\n",
            "Trainable params: 40,137\n",
            "Non-trainable params: 0\n",
            "_________________________________________________________________\n"
          ]
        }
      ],
      "source": [
        "# View the model summary\n",
        "\n",
        "model_tune.summary()"
      ],
      "id": "Onso5Hzk8S0b"
    },
    {
      "cell_type": "code",
      "execution_count": 40,
      "metadata": {
        "colab": {
          "base_uri": "https://localhost:8080/",
          "height": 1000
        },
        "id": "6cFh5xUe8YrT",
        "outputId": "a082951f-d75a-415e-a605-eed18fa21b47"
      },
      "outputs": [
        {
          "output_type": "execute_result",
          "data": {
            "image/png": "[encoded data removed]",
            "text/plain": [
              "<IPython.core.display.Image object>"
            ]
          },
          "metadata": {},
          "execution_count": 40
        }
      ],
      "source": [
        "# Visualize the model\n",
        "\n",
        "plot_model(model_tune, show_shapes=True, show_layer_names=True)"
      ],
      "id": "6cFh5xUe8YrT"
    },
    {
      "cell_type": "code",
      "execution_count": 41,
      "metadata": {
        "colab": {
          "base_uri": "https://localhost:8080/"
        },
        "id": "3tR1ki8E8mwM",
        "outputId": "7a50d64e-a871-40d4-a556-0fadc0cebf23"
      },
      "outputs": [
        {
          "output_type": "stream",
          "name": "stdout",
          "text": [
            "[[3735  979]\n",
            " [ 726 4012]]\n"
          ]
        }
      ],
      "source": [
        "# Make predictions for train set\n",
        "\n",
        "train_tune_predictions = (model_tune.predict(X_train) > 0.5).astype(\"int32\")\n",
        "\n",
        "# Check confusion matrix for train set\n",
        "\n",
        "print(confusion_matrix(y_train, train_tune_predictions))"
      ],
      "id": "3tR1ki8E8mwM"
    },
    {
      "cell_type": "code",
      "execution_count": 42,
      "metadata": {
        "colab": {
          "base_uri": "https://localhost:8080/"
        },
        "id": "M0tSVOiC8to8",
        "outputId": "90628ff7-d5f3-4448-8eec-37402f2a6814"
      },
      "outputs": [
        {
          "output_type": "execute_result",
          "data": {
            "text/plain": [
              "0.6391784199604009"
            ]
          },
          "metadata": {},
          "execution_count": 42
        }
      ],
      "source": [
        "# Get kappa value for train dataset\n",
        "\n",
        "get_kappa_binary(y_train,train_tune_predictions)"
      ],
      "id": "M0tSVOiC8to8"
    },
    {
      "cell_type": "code",
      "execution_count": 55,
      "metadata": {
        "colab": {
          "base_uri": "https://localhost:8080/"
        },
        "id": "mSvOdTo48zlU",
        "outputId": "32c8e7a6-559d-46d6-f060-bb27744a3533"
      },
      "outputs": [
        {
          "output_type": "execute_result",
          "data": {
            "text/plain": [
              "(0.8196148963182395, 0.8467707893626003, 0.792320746711922)"
            ]
          },
          "metadata": {},
          "execution_count": 55
        }
      ],
      "source": [
        "# Get sensitivity and specificity for train set\n",
        "\n",
        "get_performance_binary(y_train, train_tune_predictions)"
      ],
      "id": "mSvOdTo48zlU"
    },
    {
      "cell_type": "code",
      "execution_count": 44,
      "metadata": {
        "colab": {
          "base_uri": "https://localhost:8080/"
        },
        "id": "593a6085",
        "outputId": "4c268bce-c3fc-47f6-8137-620283003a1b"
      },
      "outputs": [
        {
          "output_type": "stream",
          "name": "stdout",
          "text": [
            "              precision    recall  f1-score   support\n",
            "\n",
            "           0     0.8373    0.7923    0.8142      4714\n",
            "           1     0.8038    0.8468    0.8248      4738\n",
            "\n",
            "    accuracy                         0.8196      9452\n",
            "   macro avg     0.8206    0.8195    0.8195      9452\n",
            "weighted avg     0.8205    0.8196    0.8195      9452\n",
            "\n"
          ]
        }
      ],
      "source": [
        "# Class-level Performance for train set\n",
        "\n",
        "print(classification_report(y_train, train_tune_predictions, digits = 4))"
      ],
      "id": "593a6085"
    },
    {
      "cell_type": "code",
      "execution_count": 45,
      "metadata": {
        "colab": {
          "base_uri": "https://localhost:8080/"
        },
        "id": "f0973ead",
        "outputId": "7d7dfffc-26a9-466a-8b98-e227701a7f19"
      },
      "outputs": [
        {
          "output_type": "stream",
          "name": "stdout",
          "text": [
            "[[939 255]\n",
            " [202 968]]\n"
          ]
        }
      ],
      "source": [
        "# Make predictions for test set\n",
        "\n",
        "test_tune_predictions = (model_tune.predict(X_test) > 0.5).astype(\"int32\")\n",
        "\n",
        "# Get Confusion Matrix for test set\n",
        "\n",
        "print(confusion_matrix(y_test, test_tune_predictions))"
      ],
      "id": "f0973ead"
    },
    {
      "cell_type": "code",
      "execution_count": 46,
      "metadata": {
        "colab": {
          "base_uri": "https://localhost:8080/"
        },
        "id": "o5BVMDdA9S4s",
        "outputId": "fd6d70e6-ccd3-4174-87d8-23adffc7e33d"
      },
      "outputs": [
        {
          "output_type": "execute_result",
          "data": {
            "text/plain": [
              "0.6135032798708658"
            ]
          },
          "metadata": {},
          "execution_count": 46
        }
      ],
      "source": [
        "# Get kappa value for test dataset\n",
        "\n",
        "get_kappa_binary(y_test,test_tune_predictions)"
      ],
      "id": "o5BVMDdA9S4s"
    },
    {
      "cell_type": "code",
      "execution_count": 56,
      "metadata": {
        "colab": {
          "base_uri": "https://localhost:8080/"
        },
        "id": "kwH226S59gbs",
        "outputId": "79839f14-b74b-49fc-9744-2dd50b7dd810"
      },
      "outputs": [
        {
          "output_type": "execute_result",
          "data": {
            "text/plain": [
              "(0.80668358714044, 0.8273504273504273, 0.7864321608040201)"
            ]
          },
          "metadata": {},
          "execution_count": 56
        }
      ],
      "source": [
        "# Get sensitivity and specificity for test set\n",
        "\n",
        "get_performance_binary(y_test, test_tune_predictions)"
      ],
      "id": "kwH226S59gbs"
    },
    {
      "cell_type": "code",
      "execution_count": 48,
      "metadata": {
        "colab": {
          "base_uri": "https://localhost:8080/"
        },
        "id": "u7gL2Nem9ayD",
        "outputId": "ad07c627-a38d-4581-b5b8-0c755890f7e3"
      },
      "outputs": [
        {
          "output_type": "stream",
          "name": "stdout",
          "text": [
            "              precision    recall  f1-score   support\n",
            "\n",
            "           0     0.8230    0.7864    0.8043      1194\n",
            "           1     0.7915    0.8274    0.8090      1170\n",
            "\n",
            "    accuracy                         0.8067      2364\n",
            "   macro avg     0.8072    0.8069    0.8067      2364\n",
            "weighted avg     0.8074    0.8067    0.8066      2364\n",
            "\n"
          ]
        }
      ],
      "source": [
        "# Class-level Performance for test set\n",
        "\n",
        "print(classification_report(y_test, test_tune_predictions, digits = 4))"
      ],
      "id": "u7gL2Nem9ayD"
    }
  ],
  "metadata": {
    "colab": {
      "collapsed_sections": [],
      "name": "“Mortgage_Deep_Learning.ipynb”的副本",
      "provenance": []
    },
    "gpuClass": "standard",
    "kernelspec": {
      "display_name": "Python 3 (ipykernel)",
      "language": "python",
      "name": "python3"
    },
    "language_info": {
      "codemirror_mode": {
        "name": "ipython",
        "version": 3
      },
      "file_extension": ".py",
      "mimetype": "text/x-python",
      "name": "python",
      "nbconvert_exporter": "python",
      "pygments_lexer": "ipython3",
      "version": "3.9.7"
    }
  },
  "nbformat": 4,
  "nbformat_minor": 5
}