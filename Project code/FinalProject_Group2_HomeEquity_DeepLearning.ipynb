{
  "nbformat": 4,
  "nbformat_minor": 0,
  "metadata": {
    "colab": {
      "name": "Deep Learning_Home Equity.ipynb",
      "provenance": [],
      "toc_visible": true,
      "collapsed_sections": [
        "7RUgTlladXNw",
        "6cLjK4l2dQo_"
      ]
    },
    "kernelspec": {
      "name": "python3",
      "display_name": "Python 3"
    },
    "language_info": {
      "name": "python"
    }
  },
  "cells": [
    {
      "cell_type": "markdown",
      "source": [
        "# Deep Learning for Structured Data"
      ],
      "metadata": {
        "id": "8QvB7js5xtG1"
      }
    },
    {
      "cell_type": "markdown",
      "source": [
        "## Introduction\n",
        "\n",
        "In this lesson, we will use tensorflow and keras for deep learning using neural networks.\n",
        "\n",
        "**Tensorflow** is an open-source, optimized tensor library for handling tensor-based operations. It serves as the back-end engine of **Keras**. An alternative option is **Theano**.\n",
        "\n",
        "**Keras** is a neural network API (model-level library) written to run on top of Tensorflow. Keras provides the framework to define and train deep learning models.\n",
        "\n",
        "A **deep neural network** is an artificial neural network (ANN) with multiple hidden layers between the input and output layers. \n",
        "\n",
        "The more hidden layers that we have in the network, the deeper the neural network can learn. Deep neural networks are usually made up of long chains of hidden layers. Deep learning models will typically have more hidden layers but less nodes per layer than the typical, more shallow ANN model. \n",
        "\n"
      ],
      "metadata": {
        "id": "9WEKXOmrx1iR"
      }
    },
    {
      "cell_type": "markdown",
      "source": [
        "## Preliminary"
      ],
      "metadata": {
        "id": "SOOYFEFix7BR"
      }
    },
    {
      "cell_type": "code",
      "execution_count": null,
      "metadata": {
        "id": "e5os-xG3xsO5"
      },
      "outputs": [],
      "source": [
        "import pandas as pd\n",
        "import numpy as np\n",
        "import matplotlib.pyplot as plt\n",
        "import tensorflow\n",
        "from tensorflow.keras import layers\n",
        "from tensorflow.keras.utils import plot_model\n",
        "import keras\n",
        "from keras import metrics\n",
        "from keras.callbacks import EarlyStopping, ModelCheckpoint\n",
        "from keras.utils.np_utils import to_categorical\n",
        "from keras.layers import Conv1D, GlobalMaxPooling1D, Dropout, Dense, GRU, LSTM, Bidirectional\n",
        "from keras.models import Sequential, load_model\n",
        "from tensorflow.keras.optimizers import Adam\n",
        "from sklearn.metrics import classification_report\n",
        "from sklearn.model_selection import train_test_split\n",
        "from scipy.spatial.distance import cdist\n",
        "import seaborn as sns\n",
        "from sklearn.preprocessing import MinMaxScaler"
      ]
    },
    {
      "cell_type": "markdown",
      "source": [
        "### Data Overview"
      ],
      "metadata": {
        "id": "5kcnlUPF0UEo"
      }
    },
    {
      "cell_type": "code",
      "source": [
        "from google.colab import files\n",
        "\n",
        "uploaded = files.upload()\n",
        "\n",
        "for fn in uploaded.keys():\n",
        "  print('User uploaded file \"{name}\" with length {length} bytes'.format(\n",
        "      name=fn, length=len(uploaded[fn])))"
      ],
      "metadata": {
        "colab": {
          "resources": {
            "http://localhost:8080/nbextensions/google.colab/files.js": {
              "data": "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",
              "ok": true,
              "headers": [
                [
                  "content-type",
                  "application/javascript"
                ]
              ],
              "status": 200,
              "status_text": ""
            }
          },
          "base_uri": "https://localhost:8080/",
          "height": 91
        },
        "id": "HomaPkwFyOZs",
        "outputId": "25cb0fb0-ee61-423b-a8e2-04855913aea7"
      },
      "execution_count": null,
      "outputs": [
        {
          "output_type": "display_data",
          "data": {
            "text/plain": [
              "<IPython.core.display.HTML object>"
            ],
            "text/html": [
              "\n",
              "     <input type=\"file\" id=\"files-088f4018-df20-4994-92ab-7c74e41197b3\" name=\"files[]\" multiple disabled\n",
              "        style=\"border:none\" />\n",
              "     <output id=\"result-088f4018-df20-4994-92ab-7c74e41197b3\">\n",
              "      Upload widget is only available when the cell has been executed in the\n",
              "      current browser session. Please rerun this cell to enable.\n",
              "      </output>\n",
              "      <script src=\"/nbextensions/google.colab/files.js\"></script> "
            ]
          },
          "metadata": {}
        },
        {
          "output_type": "stream",
          "name": "stdout",
          "text": [
            "Saving equity_imp_bin.csv to equity_imp_bin.csv\n",
            "User uploaded file \"equity_imp_bin.csv\" with length 470617 bytes\n"
          ]
        }
      ]
    },
    {
      "cell_type": "code",
      "source": [
        "equity_imp = pd.read_csv('equity_imp_bin.csv')"
      ],
      "metadata": {
        "id": "iEVYnBzrzfIK"
      },
      "execution_count": null,
      "outputs": []
    },
    {
      "cell_type": "markdown",
      "source": [
        "### Data Exploration"
      ],
      "metadata": {
        "id": "4if5tQLIcwOh"
      }
    },
    {
      "cell_type": "code",
      "source": [
        "equity_imp.head()"
      ],
      "metadata": {
        "colab": {
          "base_uri": "https://localhost:8080/",
          "height": 287
        },
        "id": "kY6hymm_zhq-",
        "outputId": "a3231b7e-0cd8-49cd-8dc6-7eb6df665837"
      },
      "execution_count": null,
      "outputs": [
        {
          "output_type": "execute_result",
          "data": {
            "text/plain": [
              "   Unnamed: 0  Loan_Amount  Mort_Bal  Home_Val  Reason_HE   YOJ  Num_Derog  \\\n",
              "0           1         1100   25860.0   39025.0          0  10.5          0   \n",
              "1           2         1300   70053.0   68400.0          0   7.0          0   \n",
              "2           3         1500   13500.0   16700.0          0   4.0          0   \n",
              "3           4         1500   97517.0  120000.0          0   1.0          1   \n",
              "4           5         1700   97800.0  112000.0          0   3.0          0   \n",
              "\n",
              "   Num_Delinq      CL_Age  Num_Inq  Num_CL   Debt_Inc  Default  \\\n",
              "0           0   94.366667        1       9  40.564750        1   \n",
              "1           2  121.833333        0      14  43.469263        1   \n",
              "2           0  149.466667        1      10  36.878297        1   \n",
              "3           5  102.500000        1      23  44.369171        1   \n",
              "4           0   93.333333        0      14  35.810878        0   \n",
              "\n",
              "   Occupation.Mgr  Occupation.Office  Occupation.Other  Occupation.ProfExe  \\\n",
              "0               0                  0                 1                   0   \n",
              "1               0                  0                 1                   0   \n",
              "2               0                  0                 1                   0   \n",
              "3               0                  0                 1                   0   \n",
              "4               0                  1                 0                   0   \n",
              "\n",
              "   Occupation.Sales  Occupation.Self  \n",
              "0                 0                0  \n",
              "1                 0                0  \n",
              "2                 0                0  \n",
              "3                 0                0  \n",
              "4                 0                0  "
            ],
            "text/html": [
              "\n",
              "  <div id=\"df-adfd742e-4380-4d1f-86c7-6ae091a2eb15\">\n",
              "    <div class=\"colab-df-container\">\n",
              "      <div>\n",
              "<style scoped>\n",
              "    .dataframe tbody tr th:only-of-type {\n",
              "        vertical-align: middle;\n",
              "    }\n",
              "\n",
              "    .dataframe tbody tr th {\n",
              "        vertical-align: top;\n",
              "    }\n",
              "\n",
              "    .dataframe thead th {\n",
              "        text-align: right;\n",
              "    }\n",
              "</style>\n",
              "<table border=\"1\" class=\"dataframe\">\n",
              "  <thead>\n",
              "    <tr style=\"text-align: right;\">\n",
              "      <th></th>\n",
              "      <th>Unnamed: 0</th>\n",
              "      <th>Loan_Amount</th>\n",
              "      <th>Mort_Bal</th>\n",
              "      <th>Home_Val</th>\n",
              "      <th>Reason_HE</th>\n",
              "      <th>YOJ</th>\n",
              "      <th>Num_Derog</th>\n",
              "      <th>Num_Delinq</th>\n",
              "      <th>CL_Age</th>\n",
              "      <th>Num_Inq</th>\n",
              "      <th>Num_CL</th>\n",
              "      <th>Debt_Inc</th>\n",
              "      <th>Default</th>\n",
              "      <th>Occupation.Mgr</th>\n",
              "      <th>Occupation.Office</th>\n",
              "      <th>Occupation.Other</th>\n",
              "      <th>Occupation.ProfExe</th>\n",
              "      <th>Occupation.Sales</th>\n",
              "      <th>Occupation.Self</th>\n",
              "    </tr>\n",
              "  </thead>\n",
              "  <tbody>\n",
              "    <tr>\n",
              "      <th>0</th>\n",
              "      <td>1</td>\n",
              "      <td>1100</td>\n",
              "      <td>25860.0</td>\n",
              "      <td>39025.0</td>\n",
              "      <td>0</td>\n",
              "      <td>10.5</td>\n",
              "      <td>0</td>\n",
              "      <td>0</td>\n",
              "      <td>94.366667</td>\n",
              "      <td>1</td>\n",
              "      <td>9</td>\n",
              "      <td>40.564750</td>\n",
              "      <td>1</td>\n",
              "      <td>0</td>\n",
              "      <td>0</td>\n",
              "      <td>1</td>\n",
              "      <td>0</td>\n",
              "      <td>0</td>\n",
              "      <td>0</td>\n",
              "    </tr>\n",
              "    <tr>\n",
              "      <th>1</th>\n",
              "      <td>2</td>\n",
              "      <td>1300</td>\n",
              "      <td>70053.0</td>\n",
              "      <td>68400.0</td>\n",
              "      <td>0</td>\n",
              "      <td>7.0</td>\n",
              "      <td>0</td>\n",
              "      <td>2</td>\n",
              "      <td>121.833333</td>\n",
              "      <td>0</td>\n",
              "      <td>14</td>\n",
              "      <td>43.469263</td>\n",
              "      <td>1</td>\n",
              "      <td>0</td>\n",
              "      <td>0</td>\n",
              "      <td>1</td>\n",
              "      <td>0</td>\n",
              "      <td>0</td>\n",
              "      <td>0</td>\n",
              "    </tr>\n",
              "    <tr>\n",
              "      <th>2</th>\n",
              "      <td>3</td>\n",
              "      <td>1500</td>\n",
              "      <td>13500.0</td>\n",
              "      <td>16700.0</td>\n",
              "      <td>0</td>\n",
              "      <td>4.0</td>\n",
              "      <td>0</td>\n",
              "      <td>0</td>\n",
              "      <td>149.466667</td>\n",
              "      <td>1</td>\n",
              "      <td>10</td>\n",
              "      <td>36.878297</td>\n",
              "      <td>1</td>\n",
              "      <td>0</td>\n",
              "      <td>0</td>\n",
              "      <td>1</td>\n",
              "      <td>0</td>\n",
              "      <td>0</td>\n",
              "      <td>0</td>\n",
              "    </tr>\n",
              "    <tr>\n",
              "      <th>3</th>\n",
              "      <td>4</td>\n",
              "      <td>1500</td>\n",
              "      <td>97517.0</td>\n",
              "      <td>120000.0</td>\n",
              "      <td>0</td>\n",
              "      <td>1.0</td>\n",
              "      <td>1</td>\n",
              "      <td>5</td>\n",
              "      <td>102.500000</td>\n",
              "      <td>1</td>\n",
              "      <td>23</td>\n",
              "      <td>44.369171</td>\n",
              "      <td>1</td>\n",
              "      <td>0</td>\n",
              "      <td>0</td>\n",
              "      <td>1</td>\n",
              "      <td>0</td>\n",
              "      <td>0</td>\n",
              "      <td>0</td>\n",
              "    </tr>\n",
              "    <tr>\n",
              "      <th>4</th>\n",
              "      <td>5</td>\n",
              "      <td>1700</td>\n",
              "      <td>97800.0</td>\n",
              "      <td>112000.0</td>\n",
              "      <td>0</td>\n",
              "      <td>3.0</td>\n",
              "      <td>0</td>\n",
              "      <td>0</td>\n",
              "      <td>93.333333</td>\n",
              "      <td>0</td>\n",
              "      <td>14</td>\n",
              "      <td>35.810878</td>\n",
              "      <td>0</td>\n",
              "      <td>0</td>\n",
              "      <td>1</td>\n",
              "      <td>0</td>\n",
              "      <td>0</td>\n",
              "      <td>0</td>\n",
              "      <td>0</td>\n",
              "    </tr>\n",
              "  </tbody>\n",
              "</table>\n",
              "</div>\n",
              "      <button class=\"colab-df-convert\" onclick=\"convertToInteractive('df-adfd742e-4380-4d1f-86c7-6ae091a2eb15')\"\n",
              "              title=\"Convert this dataframe to an interactive table.\"\n",
              "              style=\"display:none;\">\n",
              "        \n",
              "  <svg xmlns=\"http://www.w3.org/2000/svg\" height=\"24px\"viewBox=\"0 0 24 24\"\n",
              "       width=\"24px\">\n",
              "    <path d=\"M0 0h24v24H0V0z\" fill=\"none\"/>\n",
              "    <path d=\"M18.56 5.44l.94 2.06.94-2.06 2.06-.94-2.06-.94-.94-2.06-.94 2.06-2.06.94zm-11 1L8.5 8.5l.94-2.06 2.06-.94-2.06-.94L8.5 2.5l-.94 2.06-2.06.94zm10 10l.94 2.06.94-2.06 2.06-.94-2.06-.94-.94-2.06-.94 2.06-2.06.94z\"/><path d=\"M17.41 7.96l-1.37-1.37c-.4-.4-.92-.59-1.43-.59-.52 0-1.04.2-1.43.59L10.3 9.45l-7.72 7.72c-.78.78-.78 2.05 0 2.83L4 21.41c.39.39.9.59 1.41.59.51 0 1.02-.2 1.41-.59l7.78-7.78 2.81-2.81c.8-.78.8-2.07 0-2.86zM5.41 20L4 18.59l7.72-7.72 1.47 1.35L5.41 20z\"/>\n",
              "  </svg>\n",
              "      </button>\n",
              "      \n",
              "  <style>\n",
              "    .colab-df-container {\n",
              "      display:flex;\n",
              "      flex-wrap:wrap;\n",
              "      gap: 12px;\n",
              "    }\n",
              "\n",
              "    .colab-df-convert {\n",
              "      background-color: #E8F0FE;\n",
              "      border: none;\n",
              "      border-radius: 50%;\n",
              "      cursor: pointer;\n",
              "      display: none;\n",
              "      fill: #1967D2;\n",
              "      height: 32px;\n",
              "      padding: 0 0 0 0;\n",
              "      width: 32px;\n",
              "    }\n",
              "\n",
              "    .colab-df-convert:hover {\n",
              "      background-color: #E2EBFA;\n",
              "      box-shadow: 0px 1px 2px rgba(60, 64, 67, 0.3), 0px 1px 3px 1px rgba(60, 64, 67, 0.15);\n",
              "      fill: #174EA6;\n",
              "    }\n",
              "\n",
              "    [theme=dark] .colab-df-convert {\n",
              "      background-color: #3B4455;\n",
              "      fill: #D2E3FC;\n",
              "    }\n",
              "\n",
              "    [theme=dark] .colab-df-convert:hover {\n",
              "      background-color: #434B5C;\n",
              "      box-shadow: 0px 1px 3px 1px rgba(0, 0, 0, 0.15);\n",
              "      filter: drop-shadow(0px 1px 2px rgba(0, 0, 0, 0.3));\n",
              "      fill: #FFFFFF;\n",
              "    }\n",
              "  </style>\n",
              "\n",
              "      <script>\n",
              "        const buttonEl =\n",
              "          document.querySelector('#df-adfd742e-4380-4d1f-86c7-6ae091a2eb15 button.colab-df-convert');\n",
              "        buttonEl.style.display =\n",
              "          google.colab.kernel.accessAllowed ? 'block' : 'none';\n",
              "\n",
              "        async function convertToInteractive(key) {\n",
              "          const element = document.querySelector('#df-adfd742e-4380-4d1f-86c7-6ae091a2eb15');\n",
              "          const dataTable =\n",
              "            await google.colab.kernel.invokeFunction('convertToInteractive',\n",
              "                                                     [key], {});\n",
              "          if (!dataTable) return;\n",
              "\n",
              "          const docLinkHtml = 'Like what you see? Visit the ' +\n",
              "            '<a target=\"_blank\" href=https://colab.research.google.com/notebooks/data_table.ipynb>data table notebook</a>'\n",
              "            + ' to learn more about interactive tables.';\n",
              "          element.innerHTML = '';\n",
              "          dataTable['output_type'] = 'display_data';\n",
              "          await google.colab.output.renderOutput(dataTable, element);\n",
              "          const docLink = document.createElement('div');\n",
              "          docLink.innerHTML = docLinkHtml;\n",
              "          element.appendChild(docLink);\n",
              "        }\n",
              "      </script>\n",
              "    </div>\n",
              "  </div>\n",
              "  "
            ]
          },
          "metadata": {},
          "execution_count": 5
        }
      ]
    },
    {
      "cell_type": "code",
      "source": [
        "equity_imp.info()"
      ],
      "metadata": {
        "colab": {
          "base_uri": "https://localhost:8080/"
        },
        "id": "SJ1m6yijEUxE",
        "outputId": "f1434237-65ff-49f9-c04d-8886da7212f4"
      },
      "execution_count": null,
      "outputs": [
        {
          "output_type": "stream",
          "name": "stdout",
          "text": [
            "<class 'pandas.core.frame.DataFrame'>\n",
            "RangeIndex: 5962 entries, 0 to 5961\n",
            "Data columns (total 19 columns):\n",
            " #   Column              Non-Null Count  Dtype  \n",
            "---  ------              --------------  -----  \n",
            " 0   Unnamed: 0          5962 non-null   int64  \n",
            " 1   Loan_Amount         5962 non-null   int64  \n",
            " 2   Mort_Bal            5962 non-null   float64\n",
            " 3   Home_Val            5962 non-null   float64\n",
            " 4   Reason_HE           5962 non-null   int64  \n",
            " 5   YOJ                 5962 non-null   float64\n",
            " 6   Num_Derog           5962 non-null   int64  \n",
            " 7   Num_Delinq          5962 non-null   int64  \n",
            " 8   CL_Age              5962 non-null   float64\n",
            " 9   Num_Inq             5962 non-null   int64  \n",
            " 10  Num_CL              5962 non-null   int64  \n",
            " 11  Debt_Inc            5962 non-null   float64\n",
            " 12  Default             5962 non-null   int64  \n",
            " 13  Occupation.Mgr      5962 non-null   int64  \n",
            " 14  Occupation.Office   5962 non-null   int64  \n",
            " 15  Occupation.Other    5962 non-null   int64  \n",
            " 16  Occupation.ProfExe  5962 non-null   int64  \n",
            " 17  Occupation.Sales    5962 non-null   int64  \n",
            " 18  Occupation.Self     5962 non-null   int64  \n",
            "dtypes: float64(5), int64(14)\n",
            "memory usage: 885.1 KB\n"
          ]
        }
      ]
    },
    {
      "cell_type": "markdown",
      "source": [
        "## Preprocessing & Transformation"
      ],
      "metadata": {
        "id": "f9a9gilT46iX"
      }
    },
    {
      "cell_type": "markdown",
      "source": [
        "This is already handled in R"
      ],
      "metadata": {
        "id": "58NHrsoW4wZa"
      }
    },
    {
      "cell_type": "markdown",
      "source": [
        "### Missing Values\n",
        "\n",
        "This is already handled in R\n"
      ],
      "metadata": {
        "id": "fyOPDmBfz78i"
      }
    },
    {
      "cell_type": "code",
      "source": [
        "equity_imp.isna().sum()"
      ],
      "metadata": {
        "colab": {
          "base_uri": "https://localhost:8080/"
        },
        "id": "azdzHQvKz986",
        "outputId": "9c122776-3688-46c1-ed53-6872e470e608"
      },
      "execution_count": null,
      "outputs": [
        {
          "output_type": "execute_result",
          "data": {
            "text/plain": [
              "Unnamed: 0            0\n",
              "Loan_Amount           0\n",
              "Mort_Bal              0\n",
              "Home_Val              0\n",
              "Reason_HE             0\n",
              "YOJ                   0\n",
              "Num_Derog             0\n",
              "Num_Delinq            0\n",
              "CL_Age                0\n",
              "Num_Inq               0\n",
              "Num_CL                0\n",
              "Debt_Inc              0\n",
              "Default               0\n",
              "Occupation.Mgr        0\n",
              "Occupation.Office     0\n",
              "Occupation.Other      0\n",
              "Occupation.ProfExe    0\n",
              "Occupation.Sales      0\n",
              "Occupation.Self       0\n",
              "dtype: int64"
            ]
          },
          "metadata": {},
          "execution_count": 7
        }
      ]
    },
    {
      "cell_type": "markdown",
      "source": [
        "### Redundant Variables"
      ],
      "metadata": {
        "id": "PFYrmjJP6lUL"
      }
    },
    {
      "cell_type": "markdown",
      "source": [
        "Evaluate high correlations and remove redundant variable(s) as necessary. As shown, the Mort_Bal is highly correlated with Home_Val and will be removed as predictor variables in our NN model."
      ],
      "metadata": {
        "id": "u9Jbvwg6BpOF"
      }
    },
    {
      "cell_type": "code",
      "source": [
        "equity_imp.iloc[:,np.r_[1:18]].corr()"
      ],
      "metadata": {
        "colab": {
          "base_uri": "https://localhost:8080/",
          "height": 646
        },
        "id": "BRZmBKpE6n6x",
        "outputId": "380c429e-8c5d-4e8b-f042-9c116cb29295"
      },
      "execution_count": null,
      "outputs": [
        {
          "output_type": "execute_result",
          "data": {
            "text/plain": [
              "                    Loan_Amount  Mort_Bal  Home_Val  Reason_HE       YOJ  \\\n",
              "Loan_Amount            1.000000  0.219004  0.333426   0.161346  0.106440   \n",
              "Mort_Bal               0.219004  1.000000  0.874162   0.057796 -0.078740   \n",
              "Home_Val               0.333426  0.874162  1.000000   0.001196  0.001284   \n",
              "Reason_HE              0.161346  0.057796  0.001196   1.000000 -0.058512   \n",
              "YOJ                    0.106440 -0.078740  0.001284  -0.058512  1.000000   \n",
              "Num_Derog             -0.004054 -0.052028 -0.045465   0.004090 -0.063864   \n",
              "Num_Delinq            -0.035649  0.002512 -0.002113  -0.014667  0.037690   \n",
              "CL_Age                 0.082044  0.121778  0.171583  -0.063338  0.209926   \n",
              "Num_Inq                0.043528  0.028034 -0.016154   0.134174 -0.075403   \n",
              "Num_CL                 0.074177  0.351745  0.269087   0.118781  0.019867   \n",
              "Debt_Inc               0.076061  0.168836  0.123421   0.061503 -0.056626   \n",
              "Default               -0.074606 -0.030541 -0.025514  -0.037477 -0.057655   \n",
              "Occupation.Mgr         0.013157  0.088904  0.042806   0.058780  0.019924   \n",
              "Occupation.Office     -0.030346 -0.064217 -0.066174  -0.008513 -0.039595   \n",
              "Occupation.Other      -0.045337 -0.275509 -0.256618  -0.000061  0.058737   \n",
              "Occupation.ProfExe     0.009604  0.261049  0.258344  -0.007963 -0.021746   \n",
              "Occupation.Sales      -0.046470  0.031992  0.017459   0.062447 -0.038250   \n",
              "\n",
              "                    Num_Derog  Num_Delinq    CL_Age   Num_Inq    Num_CL  \\\n",
              "Loan_Amount         -0.004054   -0.035649  0.082044  0.043528  0.074177   \n",
              "Mort_Bal            -0.052028    0.002512  0.121778  0.028034  0.351745   \n",
              "Home_Val            -0.045465   -0.002113  0.171583 -0.016154  0.269087   \n",
              "Reason_HE            0.004090   -0.014667 -0.063338  0.134174  0.118781   \n",
              "YOJ                 -0.063864    0.037690  0.209926 -0.075403  0.019867   \n",
              "Num_Derog            1.000000    0.213349 -0.072511  0.164584  0.061208   \n",
              "Num_Delinq           0.213349    1.000000  0.027420  0.057215  0.157039   \n",
              "CL_Age              -0.072511    0.027420  1.000000 -0.112826  0.240857   \n",
              "Num_Inq              0.164584    0.057215 -0.112826  1.000000  0.081947   \n",
              "Num_CL               0.061208    0.157039  0.240857  0.081947  1.000000   \n",
              "Debt_Inc             0.040852    0.062054 -0.056037  0.156339  0.170323   \n",
              "Default              0.267730    0.356058 -0.164216  0.175363 -0.006098   \n",
              "Occupation.Mgr       0.035925    0.055678 -0.021337  0.064226  0.054069   \n",
              "Occupation.Office   -0.044491   -0.003957 -0.006069 -0.066473 -0.010493   \n",
              "Occupation.Other     0.034682   -0.019905 -0.077339  0.071301 -0.190419   \n",
              "Occupation.ProfExe  -0.038713   -0.022428  0.111731 -0.065590  0.162521   \n",
              "Occupation.Sales     0.023729   -0.017235  0.025319 -0.034081  0.049482   \n",
              "\n",
              "                    Debt_Inc   Default  Occupation.Mgr  Occupation.Office  \\\n",
              "Loan_Amount         0.076061 -0.074606        0.013157          -0.030346   \n",
              "Mort_Bal            0.168836 -0.030541        0.088904          -0.064217   \n",
              "Home_Val            0.123421 -0.025514        0.042806          -0.066174   \n",
              "Reason_HE           0.061503 -0.037477        0.058780          -0.008513   \n",
              "YOJ                -0.056626 -0.057655        0.019924          -0.039595   \n",
              "Num_Derog           0.040852  0.267730        0.035925          -0.044491   \n",
              "Num_Delinq          0.062054  0.356058        0.055678          -0.003957   \n",
              "CL_Age             -0.056037 -0.164216       -0.021337          -0.006069   \n",
              "Num_Inq             0.156339  0.175363        0.064226          -0.066473   \n",
              "Num_CL              0.170323 -0.006098        0.054069          -0.010493   \n",
              "Debt_Inc            1.000000  0.226893        0.065958           0.003996   \n",
              "Default             0.226893  1.000000        0.027292          -0.080415   \n",
              "Occupation.Mgr      0.065958  0.027292        1.000000          -0.176218   \n",
              "Occupation.Office   0.003996 -0.080415       -0.176218           1.000000   \n",
              "Occupation.Other    0.013937  0.054035       -0.336103          -0.384384   \n",
              "Occupation.ProfExe -0.111501 -0.049416       -0.210645          -0.240903   \n",
              "Occupation.Sales    0.060896  0.048357       -0.054314          -0.062116   \n",
              "\n",
              "                    Occupation.Other  Occupation.ProfExe  Occupation.Sales  \n",
              "Loan_Amount                -0.045337            0.009604         -0.046470  \n",
              "Mort_Bal                   -0.275509            0.261049          0.031992  \n",
              "Home_Val                   -0.256618            0.258344          0.017459  \n",
              "Reason_HE                  -0.000061           -0.007963          0.062447  \n",
              "YOJ                         0.058737           -0.021746         -0.038250  \n",
              "Num_Derog                   0.034682           -0.038713          0.023729  \n",
              "Num_Delinq                 -0.019905           -0.022428         -0.017235  \n",
              "CL_Age                     -0.077339            0.111731          0.025319  \n",
              "Num_Inq                     0.071301           -0.065590         -0.034081  \n",
              "Num_CL                     -0.190419            0.162521          0.049482  \n",
              "Debt_Inc                    0.013937           -0.111501          0.060896  \n",
              "Default                     0.054035           -0.049416          0.048357  \n",
              "Occupation.Mgr             -0.336103           -0.210645         -0.054314  \n",
              "Occupation.Office          -0.384384           -0.240903         -0.062116  \n",
              "Occupation.Other            1.000000           -0.459478         -0.118474  \n",
              "Occupation.ProfExe         -0.459478            1.000000         -0.074251  \n",
              "Occupation.Sales           -0.118474           -0.074251          1.000000  "
            ],
            "text/html": [
              "\n",
              "  <div id=\"df-5982c501-e537-40c2-866b-2d7ee7253599\">\n",
              "    <div class=\"colab-df-container\">\n",
              "      <div>\n",
              "<style scoped>\n",
              "    .dataframe tbody tr th:only-of-type {\n",
              "        vertical-align: middle;\n",
              "    }\n",
              "\n",
              "    .dataframe tbody tr th {\n",
              "        vertical-align: top;\n",
              "    }\n",
              "\n",
              "    .dataframe thead th {\n",
              "        text-align: right;\n",
              "    }\n",
              "</style>\n",
              "<table border=\"1\" class=\"dataframe\">\n",
              "  <thead>\n",
              "    <tr style=\"text-align: right;\">\n",
              "      <th></th>\n",
              "      <th>Loan_Amount</th>\n",
              "      <th>Mort_Bal</th>\n",
              "      <th>Home_Val</th>\n",
              "      <th>Reason_HE</th>\n",
              "      <th>YOJ</th>\n",
              "      <th>Num_Derog</th>\n",
              "      <th>Num_Delinq</th>\n",
              "      <th>CL_Age</th>\n",
              "      <th>Num_Inq</th>\n",
              "      <th>Num_CL</th>\n",
              "      <th>Debt_Inc</th>\n",
              "      <th>Default</th>\n",
              "      <th>Occupation.Mgr</th>\n",
              "      <th>Occupation.Office</th>\n",
              "      <th>Occupation.Other</th>\n",
              "      <th>Occupation.ProfExe</th>\n",
              "      <th>Occupation.Sales</th>\n",
              "    </tr>\n",
              "  </thead>\n",
              "  <tbody>\n",
              "    <tr>\n",
              "      <th>Loan_Amount</th>\n",
              "      <td>1.000000</td>\n",
              "      <td>0.219004</td>\n",
              "      <td>0.333426</td>\n",
              "      <td>0.161346</td>\n",
              "      <td>0.106440</td>\n",
              "      <td>-0.004054</td>\n",
              "      <td>-0.035649</td>\n",
              "      <td>0.082044</td>\n",
              "      <td>0.043528</td>\n",
              "      <td>0.074177</td>\n",
              "      <td>0.076061</td>\n",
              "      <td>-0.074606</td>\n",
              "      <td>0.013157</td>\n",
              "      <td>-0.030346</td>\n",
              "      <td>-0.045337</td>\n",
              "      <td>0.009604</td>\n",
              "      <td>-0.046470</td>\n",
              "    </tr>\n",
              "    <tr>\n",
              "      <th>Mort_Bal</th>\n",
              "      <td>0.219004</td>\n",
              "      <td>1.000000</td>\n",
              "      <td>0.874162</td>\n",
              "      <td>0.057796</td>\n",
              "      <td>-0.078740</td>\n",
              "      <td>-0.052028</td>\n",
              "      <td>0.002512</td>\n",
              "      <td>0.121778</td>\n",
              "      <td>0.028034</td>\n",
              "      <td>0.351745</td>\n",
              "      <td>0.168836</td>\n",
              "      <td>-0.030541</td>\n",
              "      <td>0.088904</td>\n",
              "      <td>-0.064217</td>\n",
              "      <td>-0.275509</td>\n",
              "      <td>0.261049</td>\n",
              "      <td>0.031992</td>\n",
              "    </tr>\n",
              "    <tr>\n",
              "      <th>Home_Val</th>\n",
              "      <td>0.333426</td>\n",
              "      <td>0.874162</td>\n",
              "      <td>1.000000</td>\n",
              "      <td>0.001196</td>\n",
              "      <td>0.001284</td>\n",
              "      <td>-0.045465</td>\n",
              "      <td>-0.002113</td>\n",
              "      <td>0.171583</td>\n",
              "      <td>-0.016154</td>\n",
              "      <td>0.269087</td>\n",
              "      <td>0.123421</td>\n",
              "      <td>-0.025514</td>\n",
              "      <td>0.042806</td>\n",
              "      <td>-0.066174</td>\n",
              "      <td>-0.256618</td>\n",
              "      <td>0.258344</td>\n",
              "      <td>0.017459</td>\n",
              "    </tr>\n",
              "    <tr>\n",
              "      <th>Reason_HE</th>\n",
              "      <td>0.161346</td>\n",
              "      <td>0.057796</td>\n",
              "      <td>0.001196</td>\n",
              "      <td>1.000000</td>\n",
              "      <td>-0.058512</td>\n",
              "      <td>0.004090</td>\n",
              "      <td>-0.014667</td>\n",
              "      <td>-0.063338</td>\n",
              "      <td>0.134174</td>\n",
              "      <td>0.118781</td>\n",
              "      <td>0.061503</td>\n",
              "      <td>-0.037477</td>\n",
              "      <td>0.058780</td>\n",
              "      <td>-0.008513</td>\n",
              "      <td>-0.000061</td>\n",
              "      <td>-0.007963</td>\n",
              "      <td>0.062447</td>\n",
              "    </tr>\n",
              "    <tr>\n",
              "      <th>YOJ</th>\n",
              "      <td>0.106440</td>\n",
              "      <td>-0.078740</td>\n",
              "      <td>0.001284</td>\n",
              "      <td>-0.058512</td>\n",
              "      <td>1.000000</td>\n",
              "      <td>-0.063864</td>\n",
              "      <td>0.037690</td>\n",
              "      <td>0.209926</td>\n",
              "      <td>-0.075403</td>\n",
              "      <td>0.019867</td>\n",
              "      <td>-0.056626</td>\n",
              "      <td>-0.057655</td>\n",
              "      <td>0.019924</td>\n",
              "      <td>-0.039595</td>\n",
              "      <td>0.058737</td>\n",
              "      <td>-0.021746</td>\n",
              "      <td>-0.038250</td>\n",
              "    </tr>\n",
              "    <tr>\n",
              "      <th>Num_Derog</th>\n",
              "      <td>-0.004054</td>\n",
              "      <td>-0.052028</td>\n",
              "      <td>-0.045465</td>\n",
              "      <td>0.004090</td>\n",
              "      <td>-0.063864</td>\n",
              "      <td>1.000000</td>\n",
              "      <td>0.213349</td>\n",
              "      <td>-0.072511</td>\n",
              "      <td>0.164584</td>\n",
              "      <td>0.061208</td>\n",
              "      <td>0.040852</td>\n",
              "      <td>0.267730</td>\n",
              "      <td>0.035925</td>\n",
              "      <td>-0.044491</td>\n",
              "      <td>0.034682</td>\n",
              "      <td>-0.038713</td>\n",
              "      <td>0.023729</td>\n",
              "    </tr>\n",
              "    <tr>\n",
              "      <th>Num_Delinq</th>\n",
              "      <td>-0.035649</td>\n",
              "      <td>0.002512</td>\n",
              "      <td>-0.002113</td>\n",
              "      <td>-0.014667</td>\n",
              "      <td>0.037690</td>\n",
              "      <td>0.213349</td>\n",
              "      <td>1.000000</td>\n",
              "      <td>0.027420</td>\n",
              "      <td>0.057215</td>\n",
              "      <td>0.157039</td>\n",
              "      <td>0.062054</td>\n",
              "      <td>0.356058</td>\n",
              "      <td>0.055678</td>\n",
              "      <td>-0.003957</td>\n",
              "      <td>-0.019905</td>\n",
              "      <td>-0.022428</td>\n",
              "      <td>-0.017235</td>\n",
              "    </tr>\n",
              "    <tr>\n",
              "      <th>CL_Age</th>\n",
              "      <td>0.082044</td>\n",
              "      <td>0.121778</td>\n",
              "      <td>0.171583</td>\n",
              "      <td>-0.063338</td>\n",
              "      <td>0.209926</td>\n",
              "      <td>-0.072511</td>\n",
              "      <td>0.027420</td>\n",
              "      <td>1.000000</td>\n",
              "      <td>-0.112826</td>\n",
              "      <td>0.240857</td>\n",
              "      <td>-0.056037</td>\n",
              "      <td>-0.164216</td>\n",
              "      <td>-0.021337</td>\n",
              "      <td>-0.006069</td>\n",
              "      <td>-0.077339</td>\n",
              "      <td>0.111731</td>\n",
              "      <td>0.025319</td>\n",
              "    </tr>\n",
              "    <tr>\n",
              "      <th>Num_Inq</th>\n",
              "      <td>0.043528</td>\n",
              "      <td>0.028034</td>\n",
              "      <td>-0.016154</td>\n",
              "      <td>0.134174</td>\n",
              "      <td>-0.075403</td>\n",
              "      <td>0.164584</td>\n",
              "      <td>0.057215</td>\n",
              "      <td>-0.112826</td>\n",
              "      <td>1.000000</td>\n",
              "      <td>0.081947</td>\n",
              "      <td>0.156339</td>\n",
              "      <td>0.175363</td>\n",
              "      <td>0.064226</td>\n",
              "      <td>-0.066473</td>\n",
              "      <td>0.071301</td>\n",
              "      <td>-0.065590</td>\n",
              "      <td>-0.034081</td>\n",
              "    </tr>\n",
              "    <tr>\n",
              "      <th>Num_CL</th>\n",
              "      <td>0.074177</td>\n",
              "      <td>0.351745</td>\n",
              "      <td>0.269087</td>\n",
              "      <td>0.118781</td>\n",
              "      <td>0.019867</td>\n",
              "      <td>0.061208</td>\n",
              "      <td>0.157039</td>\n",
              "      <td>0.240857</td>\n",
              "      <td>0.081947</td>\n",
              "      <td>1.000000</td>\n",
              "      <td>0.170323</td>\n",
              "      <td>-0.006098</td>\n",
              "      <td>0.054069</td>\n",
              "      <td>-0.010493</td>\n",
              "      <td>-0.190419</td>\n",
              "      <td>0.162521</td>\n",
              "      <td>0.049482</td>\n",
              "    </tr>\n",
              "    <tr>\n",
              "      <th>Debt_Inc</th>\n",
              "      <td>0.076061</td>\n",
              "      <td>0.168836</td>\n",
              "      <td>0.123421</td>\n",
              "      <td>0.061503</td>\n",
              "      <td>-0.056626</td>\n",
              "      <td>0.040852</td>\n",
              "      <td>0.062054</td>\n",
              "      <td>-0.056037</td>\n",
              "      <td>0.156339</td>\n",
              "      <td>0.170323</td>\n",
              "      <td>1.000000</td>\n",
              "      <td>0.226893</td>\n",
              "      <td>0.065958</td>\n",
              "      <td>0.003996</td>\n",
              "      <td>0.013937</td>\n",
              "      <td>-0.111501</td>\n",
              "      <td>0.060896</td>\n",
              "    </tr>\n",
              "    <tr>\n",
              "      <th>Default</th>\n",
              "      <td>-0.074606</td>\n",
              "      <td>-0.030541</td>\n",
              "      <td>-0.025514</td>\n",
              "      <td>-0.037477</td>\n",
              "      <td>-0.057655</td>\n",
              "      <td>0.267730</td>\n",
              "      <td>0.356058</td>\n",
              "      <td>-0.164216</td>\n",
              "      <td>0.175363</td>\n",
              "      <td>-0.006098</td>\n",
              "      <td>0.226893</td>\n",
              "      <td>1.000000</td>\n",
              "      <td>0.027292</td>\n",
              "      <td>-0.080415</td>\n",
              "      <td>0.054035</td>\n",
              "      <td>-0.049416</td>\n",
              "      <td>0.048357</td>\n",
              "    </tr>\n",
              "    <tr>\n",
              "      <th>Occupation.Mgr</th>\n",
              "      <td>0.013157</td>\n",
              "      <td>0.088904</td>\n",
              "      <td>0.042806</td>\n",
              "      <td>0.058780</td>\n",
              "      <td>0.019924</td>\n",
              "      <td>0.035925</td>\n",
              "      <td>0.055678</td>\n",
              "      <td>-0.021337</td>\n",
              "      <td>0.064226</td>\n",
              "      <td>0.054069</td>\n",
              "      <td>0.065958</td>\n",
              "      <td>0.027292</td>\n",
              "      <td>1.000000</td>\n",
              "      <td>-0.176218</td>\n",
              "      <td>-0.336103</td>\n",
              "      <td>-0.210645</td>\n",
              "      <td>-0.054314</td>\n",
              "    </tr>\n",
              "    <tr>\n",
              "      <th>Occupation.Office</th>\n",
              "      <td>-0.030346</td>\n",
              "      <td>-0.064217</td>\n",
              "      <td>-0.066174</td>\n",
              "      <td>-0.008513</td>\n",
              "      <td>-0.039595</td>\n",
              "      <td>-0.044491</td>\n",
              "      <td>-0.003957</td>\n",
              "      <td>-0.006069</td>\n",
              "      <td>-0.066473</td>\n",
              "      <td>-0.010493</td>\n",
              "      <td>0.003996</td>\n",
              "      <td>-0.080415</td>\n",
              "      <td>-0.176218</td>\n",
              "      <td>1.000000</td>\n",
              "      <td>-0.384384</td>\n",
              "      <td>-0.240903</td>\n",
              "      <td>-0.062116</td>\n",
              "    </tr>\n",
              "    <tr>\n",
              "      <th>Occupation.Other</th>\n",
              "      <td>-0.045337</td>\n",
              "      <td>-0.275509</td>\n",
              "      <td>-0.256618</td>\n",
              "      <td>-0.000061</td>\n",
              "      <td>0.058737</td>\n",
              "      <td>0.034682</td>\n",
              "      <td>-0.019905</td>\n",
              "      <td>-0.077339</td>\n",
              "      <td>0.071301</td>\n",
              "      <td>-0.190419</td>\n",
              "      <td>0.013937</td>\n",
              "      <td>0.054035</td>\n",
              "      <td>-0.336103</td>\n",
              "      <td>-0.384384</td>\n",
              "      <td>1.000000</td>\n",
              "      <td>-0.459478</td>\n",
              "      <td>-0.118474</td>\n",
              "    </tr>\n",
              "    <tr>\n",
              "      <th>Occupation.ProfExe</th>\n",
              "      <td>0.009604</td>\n",
              "      <td>0.261049</td>\n",
              "      <td>0.258344</td>\n",
              "      <td>-0.007963</td>\n",
              "      <td>-0.021746</td>\n",
              "      <td>-0.038713</td>\n",
              "      <td>-0.022428</td>\n",
              "      <td>0.111731</td>\n",
              "      <td>-0.065590</td>\n",
              "      <td>0.162521</td>\n",
              "      <td>-0.111501</td>\n",
              "      <td>-0.049416</td>\n",
              "      <td>-0.210645</td>\n",
              "      <td>-0.240903</td>\n",
              "      <td>-0.459478</td>\n",
              "      <td>1.000000</td>\n",
              "      <td>-0.074251</td>\n",
              "    </tr>\n",
              "    <tr>\n",
              "      <th>Occupation.Sales</th>\n",
              "      <td>-0.046470</td>\n",
              "      <td>0.031992</td>\n",
              "      <td>0.017459</td>\n",
              "      <td>0.062447</td>\n",
              "      <td>-0.038250</td>\n",
              "      <td>0.023729</td>\n",
              "      <td>-0.017235</td>\n",
              "      <td>0.025319</td>\n",
              "      <td>-0.034081</td>\n",
              "      <td>0.049482</td>\n",
              "      <td>0.060896</td>\n",
              "      <td>0.048357</td>\n",
              "      <td>-0.054314</td>\n",
              "      <td>-0.062116</td>\n",
              "      <td>-0.118474</td>\n",
              "      <td>-0.074251</td>\n",
              "      <td>1.000000</td>\n",
              "    </tr>\n",
              "  </tbody>\n",
              "</table>\n",
              "</div>\n",
              "      <button class=\"colab-df-convert\" onclick=\"convertToInteractive('df-5982c501-e537-40c2-866b-2d7ee7253599')\"\n",
              "              title=\"Convert this dataframe to an interactive table.\"\n",
              "              style=\"display:none;\">\n",
              "        \n",
              "  <svg xmlns=\"http://www.w3.org/2000/svg\" height=\"24px\"viewBox=\"0 0 24 24\"\n",
              "       width=\"24px\">\n",
              "    <path d=\"M0 0h24v24H0V0z\" fill=\"none\"/>\n",
              "    <path d=\"M18.56 5.44l.94 2.06.94-2.06 2.06-.94-2.06-.94-.94-2.06-.94 2.06-2.06.94zm-11 1L8.5 8.5l.94-2.06 2.06-.94-2.06-.94L8.5 2.5l-.94 2.06-2.06.94zm10 10l.94 2.06.94-2.06 2.06-.94-2.06-.94-.94-2.06-.94 2.06-2.06.94z\"/><path d=\"M17.41 7.96l-1.37-1.37c-.4-.4-.92-.59-1.43-.59-.52 0-1.04.2-1.43.59L10.3 9.45l-7.72 7.72c-.78.78-.78 2.05 0 2.83L4 21.41c.39.39.9.59 1.41.59.51 0 1.02-.2 1.41-.59l7.78-7.78 2.81-2.81c.8-.78.8-2.07 0-2.86zM5.41 20L4 18.59l7.72-7.72 1.47 1.35L5.41 20z\"/>\n",
              "  </svg>\n",
              "      </button>\n",
              "      \n",
              "  <style>\n",
              "    .colab-df-container {\n",
              "      display:flex;\n",
              "      flex-wrap:wrap;\n",
              "      gap: 12px;\n",
              "    }\n",
              "\n",
              "    .colab-df-convert {\n",
              "      background-color: #E8F0FE;\n",
              "      border: none;\n",
              "      border-radius: 50%;\n",
              "      cursor: pointer;\n",
              "      display: none;\n",
              "      fill: #1967D2;\n",
              "      height: 32px;\n",
              "      padding: 0 0 0 0;\n",
              "      width: 32px;\n",
              "    }\n",
              "\n",
              "    .colab-df-convert:hover {\n",
              "      background-color: #E2EBFA;\n",
              "      box-shadow: 0px 1px 2px rgba(60, 64, 67, 0.3), 0px 1px 3px 1px rgba(60, 64, 67, 0.15);\n",
              "      fill: #174EA6;\n",
              "    }\n",
              "\n",
              "    [theme=dark] .colab-df-convert {\n",
              "      background-color: #3B4455;\n",
              "      fill: #D2E3FC;\n",
              "    }\n",
              "\n",
              "    [theme=dark] .colab-df-convert:hover {\n",
              "      background-color: #434B5C;\n",
              "      box-shadow: 0px 1px 3px 1px rgba(0, 0, 0, 0.15);\n",
              "      filter: drop-shadow(0px 1px 2px rgba(0, 0, 0, 0.3));\n",
              "      fill: #FFFFFF;\n",
              "    }\n",
              "  </style>\n",
              "\n",
              "      <script>\n",
              "        const buttonEl =\n",
              "          document.querySelector('#df-5982c501-e537-40c2-866b-2d7ee7253599 button.colab-df-convert');\n",
              "        buttonEl.style.display =\n",
              "          google.colab.kernel.accessAllowed ? 'block' : 'none';\n",
              "\n",
              "        async function convertToInteractive(key) {\n",
              "          const element = document.querySelector('#df-5982c501-e537-40c2-866b-2d7ee7253599');\n",
              "          const dataTable =\n",
              "            await google.colab.kernel.invokeFunction('convertToInteractive',\n",
              "                                                     [key], {});\n",
              "          if (!dataTable) return;\n",
              "\n",
              "          const docLinkHtml = 'Like what you see? Visit the ' +\n",
              "            '<a target=\"_blank\" href=https://colab.research.google.com/notebooks/data_table.ipynb>data table notebook</a>'\n",
              "            + ' to learn more about interactive tables.';\n",
              "          element.innerHTML = '';\n",
              "          dataTable['output_type'] = 'display_data';\n",
              "          await google.colab.output.renderOutput(dataTable, element);\n",
              "          const docLink = document.createElement('div');\n",
              "          docLink.innerHTML = docLinkHtml;\n",
              "          element.appendChild(docLink);\n",
              "        }\n",
              "      </script>\n",
              "    </div>\n",
              "  </div>\n",
              "  "
            ]
          },
          "metadata": {},
          "execution_count": 8
        }
      ]
    },
    {
      "cell_type": "markdown",
      "source": [
        "### Standardization"
      ],
      "metadata": {
        "id": "U_hSvjB-5Fbf"
      }
    },
    {
      "cell_type": "markdown",
      "source": [
        "We will apply min-max (range) normalization to the training data prior to modeling."
      ],
      "metadata": {
        "id": "LUJL3FusDzuh"
      }
    },
    {
      "cell_type": "markdown",
      "source": [
        "## Train/Test Split"
      ],
      "metadata": {
        "id": "1yPvOhj_D7Gf"
      }
    },
    {
      "cell_type": "code",
      "source": [
        "X = equity_imp.drop(['Mort_Bal', 'Default'], axis = 1)  \n",
        "y = equity_imp.Default "
      ],
      "metadata": {
        "id": "m_2nE-ZBE43z"
      },
      "execution_count": null,
      "outputs": []
    },
    {
      "cell_type": "code",
      "source": [
        "from imblearn.over_sampling import SMOTE\n",
        "smote = SMOTE()\n",
        "X_smote, y_smote = smote.fit_resample(X, y)"
      ],
      "metadata": {
        "id": "qeNID8GB75Lk"
      },
      "execution_count": null,
      "outputs": []
    },
    {
      "cell_type": "code",
      "source": [
        "x_train, x_test, y_train, y_test = train_test_split(X_smote, y_smote, test_size = 0.20, random_state = 831)"
      ],
      "metadata": {
        "id": "P-za-AZ8ECJ1"
      },
      "execution_count": null,
      "outputs": []
    },
    {
      "cell_type": "code",
      "source": [
        "range_scaler = MinMaxScaler()\n",
        "range_scaler.fit(x_train)\n",
        "norm_x_train = range_scaler.transform(x_train)"
      ],
      "metadata": {
        "id": "2yi9-QVYKSoF"
      },
      "execution_count": null,
      "outputs": []
    },
    {
      "cell_type": "markdown",
      "source": [
        "## Deep Learning Networks\n",
        "\n"
      ],
      "metadata": {
        "id": "iBvH2x92XFca"
      }
    },
    {
      "cell_type": "markdown",
      "source": [
        "## Basic Neural Network Model"
      ],
      "metadata": {
        "id": "7Ir_aczbF95E"
      }
    },
    {
      "cell_type": "markdown",
      "source": [
        "The general framework for creating a sequential model is:\n",
        "\n",
        "1. **Define your model**. Create a Sequential model using `Sequential()` and add configured layers using `add()`.\n",
        "2. **Compile your model**. Specify loss function and optimizers and call the `compile()` function on the model.\n",
        "3. **Fit your model**. Train the model on a sample of data by calling the `fit()` function on the model.\n",
        "4. **Make predictions**. Use the model to generate predictions on new data by calling functions such as `evaluate()` or `predict()` on the model."
      ],
      "metadata": {
        "id": "b7dBlHplGB9N"
      }
    },
    {
      "cell_type": "code",
      "source": [
        "nn_mod = Sequential()\n"
      ],
      "metadata": {
        "id": "b92zM_krGEvX"
      },
      "execution_count": null,
      "outputs": []
    },
    {
      "cell_type": "markdown",
      "source": [
        "### Dense Hidden Layers\n",
        "\n",
        "Dense layers are fully connected layers. We will use 4 hidden layers in our NN and use reLu (`relu`) activation function in each layer. We use the `units` argument to specify the number of hidden nodes in each layer."
      ],
      "metadata": {
        "id": "Q66jMNXDQ5eU"
      }
    },
    {
      "cell_type": "code",
      "source": [
        "nn_mod.add(Dense(units = 100,\n",
        "              activation = 'relu',\n",
        "              name = 'Hidden_Layer_1'))"
      ],
      "metadata": {
        "id": "uWMlwsN6LQaK"
      },
      "execution_count": null,
      "outputs": []
    },
    {
      "cell_type": "code",
      "source": [
        "nn_mod.add(Dense(units = 64,\n",
        "              activation = 'relu',\n",
        "              name = 'Hidden_Layer_2'))"
      ],
      "metadata": {
        "id": "xuTuDC2zLaXH"
      },
      "execution_count": null,
      "outputs": []
    },
    {
      "cell_type": "code",
      "source": [
        "nn_mod.add(Dense(units = 48,\n",
        "              activation = 'relu',\n",
        "              name = 'Hidden_Layer_3'))"
      ],
      "metadata": {
        "id": "FrHXlh7cLdNT"
      },
      "execution_count": null,
      "outputs": []
    },
    {
      "cell_type": "code",
      "source": [
        "nn_mod.add(Dense(units = 36,\n",
        "              activation = 'relu',\n",
        "              name = 'Hidden_Layer_4'))"
      ],
      "metadata": {
        "id": "8NRi7PccLwAw"
      },
      "execution_count": null,
      "outputs": []
    },
    {
      "cell_type": "code",
      "source": [
        "nn_mod.add(Dense(units = 20,\n",
        "              activation = 'relu',\n",
        "              name = 'Hidden_Layer_5'))"
      ],
      "metadata": {
        "id": "TdPIGR3YVDew"
      },
      "execution_count": null,
      "outputs": []
    },
    {
      "cell_type": "code",
      "source": [
        "nn_mod.add(Dense(units = 10,\n",
        "              activation = 'relu',\n",
        "              name = 'Hidden_Layer_6'))"
      ],
      "metadata": {
        "id": "-xrxSIzwVK4u"
      },
      "execution_count": null,
      "outputs": []
    },
    {
      "cell_type": "markdown",
      "source": [
        "### Dense Output Layer\n",
        "\n",
        "Dense layers are fully connected layers. We add a dense output layer to take the input from the last hidden layer and have it create output for the target variable, which is binary. Since it is binary, we use the `sigmoid` activation function. If we have multiclass classification, we would use `softmax` for for the activation function of the output layer."
      ],
      "metadata": {
        "id": "Y2Kn3wFBRKFt"
      }
    },
    {
      "cell_type": "code",
      "source": [
        "nn_mod.add(Dense(units = 1,\n",
        "              activation = 'sigmoid',\n",
        "              name = 'Output_Layer'))"
      ],
      "metadata": {
        "id": "N5D1mscrL_jL"
      },
      "execution_count": null,
      "outputs": []
    },
    {
      "cell_type": "markdown",
      "source": [
        "### Evaluating the Model\n"
      ],
      "metadata": {
        "id": "jPOA9tnxRl5Y"
      }
    },
    {
      "cell_type": "code",
      "source": [
        "nn_mod.compile(loss = 'binary_crossentropy', \n",
        "            optimizer = 'adam',\n",
        "            metrics = 'accuracy')"
      ],
      "metadata": {
        "id": "afxpnUlfMXTQ"
      },
      "execution_count": null,
      "outputs": []
    },
    {
      "cell_type": "markdown",
      "source": [
        "#### Model Training\n",
        "\n"
      ],
      "metadata": {
        "id": "3ELxPhibR50E"
      }
    },
    {
      "cell_type": "code",
      "source": [
        "nn_mod_fit = nn_mod.fit(norm_x_train, y_train, batch_size = 32,\n",
        "          validation_split = 0.1, epochs = 20)"
      ],
      "metadata": {
        "colab": {
          "base_uri": "https://localhost:8080/"
        },
        "id": "1ACOaOYmMeSr",
        "outputId": "7400f86f-47d8-4b70-c84a-c3bf37b77d04"
      },
      "execution_count": null,
      "outputs": [
        {
          "output_type": "stream",
          "name": "stdout",
          "text": [
            "Epoch 1/20\n",
            "215/215 [==============================] - 1s 3ms/step - loss: 0.4865 - accuracy: 0.7578 - val_loss: 0.3772 - val_accuracy: 0.8351\n",
            "Epoch 2/20\n",
            "215/215 [==============================] - 0s 2ms/step - loss: 0.3789 - accuracy: 0.8286 - val_loss: 0.4083 - val_accuracy: 0.8050\n",
            "Epoch 3/20\n",
            "215/215 [==============================] - 0s 2ms/step - loss: 0.3664 - accuracy: 0.8293 - val_loss: 0.3540 - val_accuracy: 0.8312\n",
            "Epoch 4/20\n",
            "215/215 [==============================] - 0s 2ms/step - loss: 0.3608 - accuracy: 0.8304 - val_loss: 0.3544 - val_accuracy: 0.8298\n",
            "Epoch 5/20\n",
            "215/215 [==============================] - 0s 2ms/step - loss: 0.3499 - accuracy: 0.8361 - val_loss: 0.3510 - val_accuracy: 0.8403\n",
            "Epoch 6/20\n",
            "215/215 [==============================] - 0s 2ms/step - loss: 0.3380 - accuracy: 0.8456 - val_loss: 0.3421 - val_accuracy: 0.8429\n",
            "Epoch 7/20\n",
            "215/215 [==============================] - 0s 2ms/step - loss: 0.3299 - accuracy: 0.8527 - val_loss: 0.3389 - val_accuracy: 0.8455\n",
            "Epoch 8/20\n",
            "215/215 [==============================] - 1s 3ms/step - loss: 0.3341 - accuracy: 0.8482 - val_loss: 0.3314 - val_accuracy: 0.8508\n",
            "Epoch 9/20\n",
            "215/215 [==============================] - 1s 3ms/step - loss: 0.3212 - accuracy: 0.8549 - val_loss: 0.3250 - val_accuracy: 0.8652\n",
            "Epoch 10/20\n",
            "215/215 [==============================] - 1s 3ms/step - loss: 0.3147 - accuracy: 0.8609 - val_loss: 0.3385 - val_accuracy: 0.8534\n",
            "Epoch 11/20\n",
            "215/215 [==============================] - 0s 2ms/step - loss: 0.3078 - accuracy: 0.8648 - val_loss: 0.3113 - val_accuracy: 0.8626\n",
            "Epoch 12/20\n",
            "215/215 [==============================] - 0s 2ms/step - loss: 0.3026 - accuracy: 0.8649 - val_loss: 0.3358 - val_accuracy: 0.8626\n",
            "Epoch 13/20\n",
            "215/215 [==============================] - 0s 2ms/step - loss: 0.3022 - accuracy: 0.8713 - val_loss: 0.3213 - val_accuracy: 0.8717\n",
            "Epoch 14/20\n",
            "215/215 [==============================] - 0s 2ms/step - loss: 0.2967 - accuracy: 0.8683 - val_loss: 0.3024 - val_accuracy: 0.8770\n",
            "Epoch 15/20\n",
            "215/215 [==============================] - 0s 2ms/step - loss: 0.2864 - accuracy: 0.8706 - val_loss: 0.3153 - val_accuracy: 0.8639\n",
            "Epoch 16/20\n",
            "215/215 [==============================] - 0s 2ms/step - loss: 0.2900 - accuracy: 0.8716 - val_loss: 0.2983 - val_accuracy: 0.8652\n",
            "Epoch 17/20\n",
            "215/215 [==============================] - 0s 2ms/step - loss: 0.2789 - accuracy: 0.8788 - val_loss: 0.2894 - val_accuracy: 0.8678\n",
            "Epoch 18/20\n",
            "215/215 [==============================] - 0s 2ms/step - loss: 0.2705 - accuracy: 0.8839 - val_loss: 0.3147 - val_accuracy: 0.8508\n",
            "Epoch 19/20\n",
            "215/215 [==============================] - 0s 2ms/step - loss: 0.2691 - accuracy: 0.8821 - val_loss: 0.2952 - val_accuracy: 0.8770\n",
            "Epoch 20/20\n",
            "215/215 [==============================] - 0s 2ms/step - loss: 0.2655 - accuracy: 0.8830 - val_loss: 0.3001 - val_accuracy: 0.8730\n"
          ]
        }
      ]
    },
    {
      "cell_type": "markdown",
      "source": [
        "We use `evaluate()` to obtain the accuracy of our model on our full training dataset."
      ],
      "metadata": {
        "id": "Ni1xChMtqRmV"
      }
    },
    {
      "cell_type": "code",
      "source": [
        "nn_mod.evaluate(norm_x_train, y_train)"
      ],
      "metadata": {
        "colab": {
          "base_uri": "https://localhost:8080/"
        },
        "id": "ClDiyFFtO7td",
        "outputId": "5f5a869d-ee44-429c-d455-4dfa1a1d357f"
      },
      "execution_count": null,
      "outputs": [
        {
          "output_type": "stream",
          "name": "stdout",
          "text": [
            "239/239 [==============================] - 0s 1ms/step - loss: 0.2790 - accuracy: 0.8779\n"
          ]
        },
        {
          "output_type": "execute_result",
          "data": {
            "text/plain": [
              "[0.27902162075042725, 0.8779305815696716]"
            ]
          },
          "metadata": {},
          "execution_count": 23
        }
      ]
    },
    {
      "cell_type": "markdown",
      "source": [
        "Next, we can store the training information (`.history`) across epochs for the training and validation sets and create plots to visualize loss and accuracy over epochs. This allows us to evaluate model fit. We want the performance to be similar on the training and validation sets, seeking to minimize error."
      ],
      "metadata": {
        "id": "sEvjAe3vqfRg"
      }
    },
    {
      "cell_type": "code",
      "source": [
        "history_dict = nn_mod_fit.history\n",
        "history_dict.keys()"
      ],
      "metadata": {
        "colab": {
          "base_uri": "https://localhost:8080/"
        },
        "id": "wf8KJM9fPCKu",
        "outputId": "258f45b2-603a-4545-c53a-5e5254f8ba05"
      },
      "execution_count": null,
      "outputs": [
        {
          "output_type": "execute_result",
          "data": {
            "text/plain": [
              "dict_keys(['loss', 'accuracy', 'val_loss', 'val_accuracy'])"
            ]
          },
          "metadata": {},
          "execution_count": 24
        }
      ]
    },
    {
      "cell_type": "code",
      "source": [
        "epochs = range(1, len(history_dict['loss']) + 1)\n",
        "plt.title('Loss')\n",
        "plt.plot(epochs, history_dict['loss'], label='train')\n",
        "plt.plot(epochs, history_dict['val_loss'], label='val')\n",
        "plt.legend()\n",
        "plt.show();"
      ],
      "metadata": {
        "colab": {
          "base_uri": "https://localhost:8080/",
          "height": 281
        },
        "id": "w_f3sACmPGRn",
        "outputId": "15366f09-0da9-4079-c698-5371e862843d"
      },
      "execution_count": null,
      "outputs": [
        {
          "output_type": "display_data",
          "data": {
            "text/plain": [
              "<Figure size 432x288 with 1 Axes>"
            ],
            "image/png": "[encoded data removed]"
          },
          "metadata": {
            "needs_background": "light"
          }
        }
      ]
    },
    {
      "cell_type": "code",
      "source": [
        "plt.title('Accuracy')\n",
        "plt.plot(epochs, history_dict['accuracy'], label='train')\n",
        "plt.plot(epochs, history_dict['val_accuracy'], label='val')\n",
        "plt.legend()\n",
        "plt.show();"
      ],
      "metadata": {
        "colab": {
          "base_uri": "https://localhost:8080/",
          "height": 281
        },
        "id": "_pKSm6KFPMnr",
        "outputId": "7fa3ab70-f3f8-4dad-886f-99eb71434eea"
      },
      "execution_count": null,
      "outputs": [
        {
          "output_type": "display_data",
          "data": {
            "text/plain": [
              "<Figure size 432x288 with 1 Axes>"
            ],
            "image/png": "[encoded data removed]"
          },
          "metadata": {
            "needs_background": "light"
          }
        }
      ]
    },
    {
      "cell_type": "markdown",
      "source": [
        "Finally, we can obtain our full training performance information, including class-level (Precision, Recall, F1). "
      ],
      "metadata": {
        "id": "ENg3O4ijSoLa"
      }
    },
    {
      "cell_type": "code",
      "source": [
        "preds_train = (nn_mod.predict(norm_x_train) > 0.5).astype(\"int32\")"
      ],
      "metadata": {
        "id": "wR_EoqSPSrZk"
      },
      "execution_count": null,
      "outputs": []
    },
    {
      "cell_type": "code",
      "source": [
        "print(classification_report(y_train, preds_train, digits=4))"
      ],
      "metadata": {
        "colab": {
          "base_uri": "https://localhost:8080/"
        },
        "id": "1B8qVs1ISkes",
        "outputId": "d556ecb0-223f-4731-e1ef-b86f02539867"
      },
      "execution_count": null,
      "outputs": [
        {
          "output_type": "stream",
          "name": "stdout",
          "text": [
            "              precision    recall  f1-score   support\n",
            "\n",
            "           0     0.8122    0.9843    0.8900      3831\n",
            "           1     0.9799    0.7708    0.8629      3804\n",
            "\n",
            "    accuracy                         0.8779      7635\n",
            "   macro avg     0.8961    0.8776    0.8764      7635\n",
            "weighted avg     0.8958    0.8779    0.8765      7635\n",
            "\n"
          ]
        }
      ]
    },
    {
      "cell_type": "markdown",
      "source": [
        "#### Visualizing the Network Architecture"
      ],
      "metadata": {
        "id": "E2ryH3Bgo5sV"
      }
    },
    {
      "cell_type": "markdown",
      "source": [
        "We can summarize our NN and visualize the network architecture to better understand the network before obtaining model performance information on our testing set."
      ],
      "metadata": {
        "id": "m-FqTgMuSH7q"
      }
    },
    {
      "cell_type": "code",
      "source": [
        "nn_mod.summary()"
      ],
      "metadata": {
        "colab": {
          "base_uri": "https://localhost:8080/"
        },
        "id": "3Uoodn7OPgCM",
        "outputId": "8e5f7ff2-c117-4386-e36b-f09a248cca04"
      },
      "execution_count": null,
      "outputs": [
        {
          "output_type": "stream",
          "name": "stdout",
          "text": [
            "Model: \"sequential\"\n",
            "_________________________________________________________________\n",
            " Layer (type)                Output Shape              Param #   \n",
            "=================================================================\n",
            " Hidden_Layer_1 (Dense)      (None, 100)               1800      \n",
            "                                                                 \n",
            " Hidden_Layer_2 (Dense)      (None, 64)                6464      \n",
            "                                                                 \n",
            " Hidden_Layer_3 (Dense)      (None, 48)                3120      \n",
            "                                                                 \n",
            " Hidden_Layer_4 (Dense)      (None, 36)                1764      \n",
            "                                                                 \n",
            " Hidden_Layer_5 (Dense)      (None, 20)                740       \n",
            "                                                                 \n",
            " Hidden_Layer_6 (Dense)      (None, 10)                210       \n",
            "                                                                 \n",
            " Output_Layer (Dense)        (None, 1)                 11        \n",
            "                                                                 \n",
            "=================================================================\n",
            "Total params: 14,109\n",
            "Trainable params: 14,109\n",
            "Non-trainable params: 0\n",
            "_________________________________________________________________\n"
          ]
        }
      ]
    },
    {
      "cell_type": "code",
      "source": [
        "plot_model(nn_mod, show_shapes=True, show_layer_names=True)"
      ],
      "metadata": {
        "colab": {
          "base_uri": "https://localhost:8080/",
          "height": 865
        },
        "id": "Tv1ysZUSPTYe",
        "outputId": "a35bca60-834f-4636-c87e-7d616e8f0ddb"
      },
      "execution_count": null,
      "outputs": [
        {
          "output_type": "execute_result",
          "data": {
            "image/png": "[encoded data removed]",
            "text/plain": [
              "<IPython.core.display.Image object>"
            ]
          },
          "metadata": {},
          "execution_count": 31
        }
      ]
    },
    {
      "cell_type": "markdown",
      "source": [
        "#### Model Testing\n",
        "\n",
        "Finally, we obtain predictions and performance information on our testing set, using range normalize input variables."
      ],
      "metadata": {
        "id": "Rr7kgcQtaoRD"
      }
    },
    {
      "cell_type": "code",
      "source": [
        "norm_x_test = range_scaler.transform(x_test)"
      ],
      "metadata": {
        "id": "l1mBsMW9c0ra"
      },
      "execution_count": null,
      "outputs": []
    },
    {
      "cell_type": "code",
      "source": [
        "preds_test = (nn_mod.predict(norm_x_test) > 0.5).astype(\"int32\")\n",
        "print(classification_report(y_test, preds_test, digits=6))"
      ],
      "metadata": {
        "colab": {
          "base_uri": "https://localhost:8080/"
        },
        "id": "GJkFpxvwbTP2",
        "outputId": "c5784b3f-63dc-4b48-9274-c729f5d3ef0a"
      },
      "execution_count": null,
      "outputs": [
        {
          "output_type": "stream",
          "name": "stdout",
          "text": [
            "              precision    recall  f1-score   support\n",
            "\n",
            "           0   0.814488  0.979809  0.889532       941\n",
            "           1   0.975547  0.783058  0.868768       968\n",
            "\n",
            "    accuracy                       0.880042      1909\n",
            "   macro avg   0.895017  0.881433  0.879150      1909\n",
            "weighted avg   0.896156  0.880042  0.879003      1909\n",
            "\n"
          ]
        }
      ]
    },
    {
      "cell_type": "markdown",
      "source": [
        "## Model Tuning\n",
        "\n",
        "Model choices that can impact your model's performance include:\n",
        "- amount of data available for use in train/test/validation\n",
        "- the number of layers\n",
        "- the types of layers used\n",
        "- the order of the layers\n",
        "\n",
        "Some hyperparameters that can be tuned include:\n",
        "- number of neurons (units) per layer\n",
        "- number of layers\n",
        "- optimization learning rate, decay rate\n",
        "- batch size\n",
        "- number of epochs"
      ],
      "metadata": {
        "id": "o_ApAF1dbv-Y"
      }
    },
    {
      "cell_type": "markdown",
      "source": [
        "### Keras Tuner\n",
        "\n",
        "**Keras Tuner** can be used for hyperparameter tuning. In the following example, we will tune the following model hyperparameters:\n",
        "- Number of nodes per layer\n",
        "- Optimization learning rate\n",
        "- Number of Epochs\n",
        "\n",
        "First, we install and import keras tuner. "
      ],
      "metadata": {
        "id": "3OhCW9MQlEw0"
      }
    },
    {
      "cell_type": "code",
      "source": [
        "pip install -q -U keras-tuner"
      ],
      "metadata": {
        "id": "EJ2dbjn0lGho",
        "colab": {
          "base_uri": "https://localhost:8080/"
        },
        "outputId": "23c645ae-01d2-491f-d2ef-c8a626b49acf"
      },
      "execution_count": null,
      "outputs": [
        {
          "output_type": "stream",
          "name": "stdout",
          "text": [
            "\u001b[K     |████████████████████████████████| 135 kB 13.9 MB/s \n",
            "\u001b[K     |████████████████████████████████| 1.6 MB 61.8 MB/s \n",
            "\u001b[?25h"
          ]
        }
      ]
    },
    {
      "cell_type": "code",
      "source": [
        "import keras_tuner as kt"
      ],
      "metadata": {
        "id": "AfhgIrC8lLUr"
      },
      "execution_count": null,
      "outputs": []
    },
    {
      "cell_type": "markdown",
      "source": [
        "We can create a function to define our sequential NN model and the grid space for our hyperparameters. We can use `hp.Int()` to create a sequence for our grid search or use `hp.Choice()` to explicitly provide the grid for the hyperparameter by name.\n",
        "\n",
        "In the example below, we have a NN with 4 hidden layers, as in the previous example. Here, we are tuning the number of units for each of the layers and the learning rate.\n"
      ],
      "metadata": {
        "id": "gb5uzgAp3uOp"
      }
    },
    {
      "cell_type": "code",
      "source": [
        "def model_builder(hp):\n",
        "  model = keras.Sequential()\n",
        "  # Tune the number of units in the first Dense layer\n",
        "  # Choose an optimal value \n",
        "  hp_units1 = hp.Int('units_1', min_value = 16, \n",
        "                     max_value = 200, \n",
        "                     step = 16)\n",
        "  hp_units2 = hp.Int('units_2', min_value = 16, \n",
        "                     max_value = 160, \n",
        "                     step = 16)\n",
        "  hp_units3 = hp.Int('units_3', min_value = 16, \n",
        "                     max_value = 80, \n",
        "                     step = 16)\n",
        "  hp_units4 = hp.Int('units_4', min_value = 16, \n",
        "                     max_value = 80, \n",
        "                     step = 16)\n",
        "  hp_units5 = hp.Int('units_5', min_value = 16, \n",
        "                     max_value = 32, \n",
        "                     step = 8)\n",
        "  hp_units6 = hp.Int('units_6', min_value = 8, \n",
        "                     max_value = 32, \n",
        "                     step = 4)\n",
        "  model.add(Dense(units = hp_units1, \n",
        "                               activation = 'relu'))\n",
        "  model.add(Dense(units = hp_units2, \n",
        "                               activation = 'relu'))\n",
        "  model.add(Dense(units = hp_units3, \n",
        "                               activation = 'relu'))\n",
        "  model.add(Dense(units = hp_units4, \n",
        "                               activation = 'relu'))\n",
        "  model.add(Dense(units = hp_units5, \n",
        "                               activation = 'relu'))\n",
        "  model.add(Dense(units = hp_units6, \n",
        "                               activation = 'relu'))\n",
        "  model.add(Dense(units = 1,\n",
        "              activation = 'sigmoid'))\n",
        "\n",
        "  # Tune the learning rate for the optimizer\n",
        "  # Choose an optimal value from 0.1 - 0.0001\n",
        "  hp_learning_rate = hp.Choice('learning_rate', values = [1e-1, 1e-2, 1e-3, 1e-4])\n",
        "\n",
        "  model.compile(optimizer = Adam(learning_rate = hp_learning_rate),\n",
        "                loss = 'binary_crossentropy',\n",
        "                metrics = 'accuracy')\n",
        "\n",
        "  return model"
      ],
      "metadata": {
        "id": "xCsdj9YplTIp"
      },
      "execution_count": null,
      "outputs": []
    },
    {
      "cell_type": "markdown",
      "source": [
        "Below, we use a variation of the [Hyperband](https://jmlr.org/papers/volume18/16-558/16-558.pdf) approach to optimizing hyperparameters. Other tuner options include `Tuner()`, `RandomSearch()`, and `BayesianOptimization()`."
      ],
      "metadata": {
        "id": "pqxm-1A55EQq"
      }
    },
    {
      "cell_type": "code",
      "source": [
        "tuner = kt.Hyperband(model_builder,\n",
        "                     objective = 'val_accuracy',\n",
        "                     max_epochs = 20,\n",
        "                     factor = 3,\n",
        "                     seed = 831,\n",
        "                     directory = 'my_dir',\n",
        "                     project_name = 'intro_to_kt3')"
      ],
      "metadata": {
        "id": "iSEagyRLmU2i"
      },
      "execution_count": null,
      "outputs": []
    },
    {
      "cell_type": "markdown",
      "source": [
        "We use `EarlyStopping()` to help us choose a good number for the number of epochs and avoid overfitting the model or training the model with little improvement in loss minimization. We seek to optimize the validation loss (`monitor = 'val_loss'`) and set `patience = 5` to terminate training if after 5 epochs we have not improved our solution."
      ],
      "metadata": {
        "id": "A162Flm46M1E"
      }
    },
    {
      "cell_type": "code",
      "source": [
        "stop_early = EarlyStopping(monitor = 'val_loss', patience = 5)"
      ],
      "metadata": {
        "id": "3qxhsiVQndCg"
      },
      "execution_count": null,
      "outputs": []
    },
    {
      "cell_type": "markdown",
      "source": [
        "Finally, we conduct the hyperparameter search using `search()` and obtain as output the value of the highest validation accuracy."
      ],
      "metadata": {
        "id": "xIMNH3Sf6-G8"
      }
    },
    {
      "cell_type": "code",
      "source": [
        "tuner.search(norm_x_train, \n",
        "             y_train, \n",
        "             epochs = 20, \n",
        "             batch_size = 32, \n",
        "             validation_split = 0.1, \n",
        "             callbacks = [stop_early])"
      ],
      "metadata": {
        "id": "NHEOlKM3nlku",
        "colab": {
          "base_uri": "https://localhost:8080/"
        },
        "outputId": "606fc761-6919-412a-cda3-4c13702fe732"
      },
      "execution_count": null,
      "outputs": [
        {
          "output_type": "stream",
          "name": "stdout",
          "text": [
            "Trial 30 Complete [00h 00m 06s]\n",
            "val_accuracy: 0.5104712247848511\n",
            "\n",
            "Best val_accuracy So Far: 0.8821989297866821\n",
            "Total elapsed time: 00h 02m 41s\n"
          ]
        }
      ]
    },
    {
      "cell_type": "markdown",
      "source": [
        "Next, we can get the values of our optimal hyperparameters, as well as an overview of the default values for each hyperparameter and the grid space that we searched over."
      ],
      "metadata": {
        "id": "KZrXtol87cfE"
      }
    },
    {
      "cell_type": "code",
      "source": [
        "best_mod = tuner.get_best_hyperparameters(num_trials = 1)[0]\n",
        "best_mod.get_config()"
      ],
      "metadata": {
        "colab": {
          "base_uri": "https://localhost:8080/"
        },
        "id": "hLPKthFCn6Xr",
        "outputId": "8ec0a46c-ad03-4e28-8afb-847cb8970f1d"
      },
      "execution_count": null,
      "outputs": [
        {
          "output_type": "execute_result",
          "data": {
            "text/plain": [
              "{'space': [{'class_name': 'Int',\n",
              "   'config': {'name': 'units_1',\n",
              "    'default': None,\n",
              "    'conditions': [],\n",
              "    'min_value': 16,\n",
              "    'max_value': 200,\n",
              "    'step': 16,\n",
              "    'sampling': None}},\n",
              "  {'class_name': 'Int',\n",
              "   'config': {'name': 'units_2',\n",
              "    'default': None,\n",
              "    'conditions': [],\n",
              "    'min_value': 16,\n",
              "    'max_value': 160,\n",
              "    'step': 16,\n",
              "    'sampling': None}},\n",
              "  {'class_name': 'Int',\n",
              "   'config': {'name': 'units_3',\n",
              "    'default': None,\n",
              "    'conditions': [],\n",
              "    'min_value': 16,\n",
              "    'max_value': 80,\n",
              "    'step': 16,\n",
              "    'sampling': None}},\n",
              "  {'class_name': 'Int',\n",
              "   'config': {'name': 'units_4',\n",
              "    'default': None,\n",
              "    'conditions': [],\n",
              "    'min_value': 16,\n",
              "    'max_value': 80,\n",
              "    'step': 16,\n",
              "    'sampling': None}},\n",
              "  {'class_name': 'Int',\n",
              "   'config': {'name': 'units_5',\n",
              "    'default': None,\n",
              "    'conditions': [],\n",
              "    'min_value': 16,\n",
              "    'max_value': 32,\n",
              "    'step': 8,\n",
              "    'sampling': None}},\n",
              "  {'class_name': 'Int',\n",
              "   'config': {'name': 'units_6',\n",
              "    'default': None,\n",
              "    'conditions': [],\n",
              "    'min_value': 8,\n",
              "    'max_value': 32,\n",
              "    'step': 4,\n",
              "    'sampling': None}},\n",
              "  {'class_name': 'Choice',\n",
              "   'config': {'name': 'learning_rate',\n",
              "    'default': 0.1,\n",
              "    'conditions': [],\n",
              "    'values': [0.1, 0.01, 0.001, 0.0001],\n",
              "    'ordered': True}}],\n",
              " 'values': {'units_1': 176,\n",
              "  'units_2': 48,\n",
              "  'units_3': 16,\n",
              "  'units_4': 80,\n",
              "  'units_5': 32,\n",
              "  'units_6': 16,\n",
              "  'learning_rate': 0.001,\n",
              "  'tuner/epochs': 20,\n",
              "  'tuner/initial_epoch': 0,\n",
              "  'tuner/bracket': 0,\n",
              "  'tuner/round': 0}}"
            ]
          },
          "metadata": {},
          "execution_count": 40
        }
      ]
    },
    {
      "cell_type": "markdown",
      "source": [
        "Finally, we can run the model using our optimal hyperparameters."
      ],
      "metadata": {
        "id": "fQ7nDOxS7oei"
      }
    },
    {
      "cell_type": "code",
      "source": [
        "model_tune = tuner.hypermodel.build(best_mod)\n",
        "history_tune = model_tune.fit(norm_x_train, \n",
        "                              y_train,\n",
        "                              epochs = best_mod.get('tuner/epochs'),\n",
        "                              batch_size = 32,\n",
        "                              validation_split = 0.1)"
      ],
      "metadata": {
        "colab": {
          "base_uri": "https://localhost:8080/"
        },
        "id": "QbHXU3SDvrXr",
        "outputId": "c50a4b38-c3d3-4814-b6ba-e5426811ac4a"
      },
      "execution_count": null,
      "outputs": [
        {
          "output_type": "stream",
          "name": "stdout",
          "text": [
            "Epoch 1/20\n",
            "215/215 [==============================] - 1s 3ms/step - loss: 0.4995 - accuracy: 0.7526 - val_loss: 0.3805 - val_accuracy: 0.8181\n",
            "Epoch 2/20\n",
            "215/215 [==============================] - 0s 2ms/step - loss: 0.3744 - accuracy: 0.8229 - val_loss: 0.3607 - val_accuracy: 0.8325\n",
            "Epoch 3/20\n",
            "215/215 [==============================] - 0s 2ms/step - loss: 0.3620 - accuracy: 0.8338 - val_loss: 0.3488 - val_accuracy: 0.8429\n",
            "Epoch 4/20\n",
            "215/215 [==============================] - 0s 2ms/step - loss: 0.3485 - accuracy: 0.8409 - val_loss: 0.3363 - val_accuracy: 0.8469\n",
            "Epoch 5/20\n",
            "215/215 [==============================] - 1s 2ms/step - loss: 0.3465 - accuracy: 0.8382 - val_loss: 0.3546 - val_accuracy: 0.8482\n",
            "Epoch 6/20\n",
            "215/215 [==============================] - 0s 2ms/step - loss: 0.3331 - accuracy: 0.8507 - val_loss: 0.3511 - val_accuracy: 0.8469\n",
            "Epoch 7/20\n",
            "215/215 [==============================] - 1s 2ms/step - loss: 0.3237 - accuracy: 0.8539 - val_loss: 0.3541 - val_accuracy: 0.8403\n",
            "Epoch 8/20\n",
            "215/215 [==============================] - 0s 2ms/step - loss: 0.3153 - accuracy: 0.8597 - val_loss: 0.3476 - val_accuracy: 0.8390\n",
            "Epoch 9/20\n",
            "215/215 [==============================] - 0s 2ms/step - loss: 0.3142 - accuracy: 0.8587 - val_loss: 0.3161 - val_accuracy: 0.8691\n",
            "Epoch 10/20\n",
            "215/215 [==============================] - 0s 2ms/step - loss: 0.3086 - accuracy: 0.8601 - val_loss: 0.3154 - val_accuracy: 0.8599\n",
            "Epoch 11/20\n",
            "215/215 [==============================] - 1s 2ms/step - loss: 0.2992 - accuracy: 0.8654 - val_loss: 0.3104 - val_accuracy: 0.8665\n",
            "Epoch 12/20\n",
            "215/215 [==============================] - 0s 2ms/step - loss: 0.2953 - accuracy: 0.8648 - val_loss: 0.3021 - val_accuracy: 0.8757\n",
            "Epoch 13/20\n",
            "215/215 [==============================] - 0s 2ms/step - loss: 0.2924 - accuracy: 0.8696 - val_loss: 0.3078 - val_accuracy: 0.8665\n",
            "Epoch 14/20\n",
            "215/215 [==============================] - 1s 2ms/step - loss: 0.2877 - accuracy: 0.8674 - val_loss: 0.3263 - val_accuracy: 0.8455\n",
            "Epoch 15/20\n",
            "215/215 [==============================] - 0s 2ms/step - loss: 0.2801 - accuracy: 0.8785 - val_loss: 0.2845 - val_accuracy: 0.8783\n",
            "Epoch 16/20\n",
            "215/215 [==============================] - 0s 2ms/step - loss: 0.2741 - accuracy: 0.8815 - val_loss: 0.2922 - val_accuracy: 0.8691\n",
            "Epoch 17/20\n",
            "215/215 [==============================] - 0s 2ms/step - loss: 0.2639 - accuracy: 0.8839 - val_loss: 0.2644 - val_accuracy: 0.8874\n",
            "Epoch 18/20\n",
            "215/215 [==============================] - 0s 2ms/step - loss: 0.2630 - accuracy: 0.8863 - val_loss: 0.2828 - val_accuracy: 0.8809\n",
            "Epoch 19/20\n",
            "215/215 [==============================] - 0s 2ms/step - loss: 0.2532 - accuracy: 0.8903 - val_loss: 0.2723 - val_accuracy: 0.8757\n",
            "Epoch 20/20\n",
            "215/215 [==============================] - 0s 2ms/step - loss: 0.2516 - accuracy: 0.8908 - val_loss: 0.2651 - val_accuracy: 0.8940\n"
          ]
        }
      ]
    },
    {
      "cell_type": "code",
      "source": [
        "preds_train_tune = (model_tune.predict(norm_x_train) > 0.5).astype(\"int32\")\n",
        "print(classification_report(y_train, preds_train_tune, digits = 6))"
      ],
      "metadata": {
        "colab": {
          "base_uri": "https://localhost:8080/"
        },
        "id": "yfBR-9j0wnD_",
        "outputId": "c34051d9-6e9d-41f3-f2f1-77d1804d399c"
      },
      "execution_count": null,
      "outputs": [
        {
          "output_type": "stream",
          "name": "stdout",
          "text": [
            "              precision    recall  f1-score   support\n",
            "\n",
            "           0   0.860202  0.954059  0.904703      3831\n",
            "           1   0.948021  0.843849  0.892907      3804\n",
            "\n",
            "    accuracy                       0.899149      7635\n",
            "   macro avg   0.904112  0.898954  0.898805      7635\n",
            "weighted avg   0.903957  0.899149  0.898826      7635\n",
            "\n"
          ]
        }
      ]
    },
    {
      "cell_type": "code",
      "source": [
        "preds_test_tune = (model_tune.predict(norm_x_test) > 0.5).astype(\"int32\")\n",
        "print(classification_report(y_test, preds_test_tune, digits = 6))"
      ],
      "metadata": {
        "colab": {
          "base_uri": "https://localhost:8080/"
        },
        "id": "rMTbG4bb1GIH",
        "outputId": "a3aa1cda-8570-47a5-cc9b-d54e28bcb8e0"
      },
      "execution_count": null,
      "outputs": [
        {
          "output_type": "stream",
          "name": "stdout",
          "text": [
            "              precision    recall  f1-score   support\n",
            "\n",
            "           0   0.852998  0.937301  0.893165       941\n",
            "           1   0.932571  0.842975  0.885513       968\n",
            "\n",
            "    accuracy                       0.889471      1909\n",
            "   macro avg   0.892785  0.890138  0.889339      1909\n",
            "weighted avg   0.893347  0.889471  0.889285      1909\n",
            "\n"
          ]
        }
      ]
    },
    {
      "cell_type": "markdown",
      "source": [
        "Kappa value"
      ],
      "metadata": {
        "id": "cuApdqjU9Uy4"
      }
    },
    {
      "cell_type": "code",
      "source": [
        "from sklearn.metrics import classification_report, confusion_matrix\n",
        "\n"
      ],
      "metadata": {
        "id": "J5X0ZvuY99qa"
      },
      "execution_count": null,
      "outputs": []
    },
    {
      "cell_type": "code",
      "source": [
        "def get_kappa_binary(actual_y, pred_y):\n",
        "    cm = confusion_matrix(actual_y, pred_y)\n",
        "    total = sum(sum(cm))\n",
        "    p_expected_c0 = ((cm[0,0]+cm[0,1])/total) * ((cm[0,0]+cm[1,0])/total)\n",
        "    p_expected_c1 = ((cm[1,1]+cm[1,0])/total) * ((cm[1,1]+cm[0,1])/total)\n",
        "    p_expected = p_expected_c0 + p_expected_c1\n",
        "    p_actual = (cm[0,0]+cm[1,1])/total\n",
        "    kappa = (p_actual - p_expected)/(1 - p_expected)\n",
        "    return kappa"
      ],
      "metadata": {
        "id": "oratn27O9W8J"
      },
      "execution_count": null,
      "outputs": []
    },
    {
      "cell_type": "code",
      "source": [
        "get_kappa_binary(y_train, preds_train_tune)"
      ],
      "metadata": {
        "colab": {
          "base_uri": "https://localhost:8080/"
        },
        "id": "xzR0wBdJ9ZkQ",
        "outputId": "ca75a93a-8faf-4060-e59e-97be57ce1f7d"
      },
      "execution_count": null,
      "outputs": [
        {
          "output_type": "execute_result",
          "data": {
            "text/plain": [
              "0.7982166580481553"
            ]
          },
          "metadata": {},
          "execution_count": 46
        }
      ]
    },
    {
      "cell_type": "code",
      "source": [
        "get_kappa_binary(y_test, preds_test_tune)"
      ],
      "metadata": {
        "colab": {
          "base_uri": "https://localhost:8080/"
        },
        "id": "hcvADfh3-Fp1",
        "outputId": "caca4c69-2d56-4d46-9307-d1490d596ec9"
      },
      "execution_count": null,
      "outputs": [
        {
          "output_type": "execute_result",
          "data": {
            "text/plain": [
              "0.7792019567096625"
            ]
          },
          "metadata": {},
          "execution_count": 47
        }
      ]
    },
    {
      "cell_type": "code",
      "source": [
        "# For binary_classification\n",
        "\n",
        "def get_performance_binary(actual_Y, pred_Y):\n",
        "  cm = confusion_matrix(actual_Y, pred_Y)\n",
        "  total = sum(sum(cm))\n",
        "  sensitivity = cm[0,0]/(cm[0,0]+cm[0,1])\n",
        "  specificity = cm[1,1]/(cm[1,0]+cm[1,1])\n",
        "  return sensitivity, specificity"
      ],
      "metadata": {
        "id": "u_OAqz5kDZyh"
      },
      "execution_count": null,
      "outputs": []
    },
    {
      "cell_type": "code",
      "source": [
        "get_performance_binary(y_train, preds_train_tune)"
      ],
      "metadata": {
        "colab": {
          "base_uri": "https://localhost:8080/"
        },
        "id": "Ybh-c3TWDig3",
        "outputId": "42ebc14f-ed22-425e-9e42-89039336764f"
      },
      "execution_count": null,
      "outputs": [
        {
          "output_type": "execute_result",
          "data": {
            "text/plain": [
              "(0.9540589924301749, 0.8438485804416404)"
            ]
          },
          "metadata": {},
          "execution_count": 49
        }
      ]
    },
    {
      "cell_type": "code",
      "source": [
        "get_performance_binary(y_test, preds_test_tune)"
      ],
      "metadata": {
        "colab": {
          "base_uri": "https://localhost:8080/"
        },
        "id": "SPZDVNmkDonG",
        "outputId": "547f17f7-7532-4b45-d9a9-98cd8d16a532"
      },
      "execution_count": null,
      "outputs": [
        {
          "output_type": "execute_result",
          "data": {
            "text/plain": [
              "(0.9373007438894793, 0.8429752066115702)"
            ]
          },
          "metadata": {},
          "execution_count": 50
        }
      ]
    },
    {
      "cell_type": "markdown",
      "source": [
        "## Additional Model Considerations\n",
        "\n",
        "> Indented block\n",
        "\n"
      ],
      "metadata": {
        "id": "Lp7cD7Ab22O0"
      }
    },
    {
      "cell_type": "markdown",
      "source": [
        "### Imbalanced Data\n",
        "In the presence of class imbalance, common approaches include:\n",
        "- resampling (ie random oversampling, random undersampling, SMOTE)\n",
        "- alternate performance metrics (precision, recall, F1, AUC/ROC)\n",
        "- initialize class weights\n",
        "\n",
        "For more information, visit: https://www.tensorflow.org/tutorials/structured_data/imbalanced_data"
      ],
      "metadata": {
        "id": "7RUgTlladXNw"
      }
    },
    {
      "cell_type": "markdown",
      "source": [
        "### Overfitting\n",
        "\n",
        "In the presence of overfitting, common approaches include:\n",
        "- train using more data\n",
        "- decreasing model capacity\n",
        "- dropout\n",
        "- weight regularization\n",
        "\n",
        "Decreasing model capacity involves reducing the number of model parameters. \n",
        "\n",
        "**Regularization**, specifically **dropout** can be used. You can add `Dropout()` as you would layers in the model and can be added between layers so that the model does not learn spurious features at hidden nodes. A common dropout rate is 0.5. \n",
        "\n",
        "You can also add weight regularization (L1 or L2) to layers through the `kernel_regularizer` argument. **Weight regularization** put constraints on the complexity of a network by forcing its weights only to take small values, which makes the distribution of weight values more \"regular\".\n",
        "\n",
        "For more information, visit: https://www.tensorflow.org/tutorials/keras/overfit_and_underfit"
      ],
      "metadata": {
        "id": "6cLjK4l2dQo_"
      }
    }
  ]
}